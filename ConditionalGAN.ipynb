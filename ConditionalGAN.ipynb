{
  "nbformat": 4,
  "nbformat_minor": 0,
  "metadata": {
    "colab": {
      "provenance": [],
      "authorship_tag": "ABX9TyP2oYDWWirEiFD6wPNt81l6",
      "include_colab_link": true
    },
    "kernelspec": {
      "name": "python3",
      "display_name": "Python 3"
    },
    "language_info": {
      "name": "python"
    },
    "accelerator": "GPU",
    "gpuClass": "standard"
  },
  "cells": [
    {
      "cell_type": "markdown",
      "metadata": {
        "id": "view-in-github",
        "colab_type": "text"
      },
      "source": [
        "<a href=\"https://colab.research.google.com/github/TakuroTerui/object_gan_autoencoder_image/blob/master/ConditionalGAN.ipynb\" target=\"_parent\"><img src=\"https://colab.research.google.com/assets/colab-badge.svg\" alt=\"Open In Colab\"/></a>"
      ]
    },
    {
      "cell_type": "code",
      "execution_count": 1,
      "metadata": {
        "colab": {
          "base_uri": "https://localhost:8080/"
        },
        "id": "uS3_uN1RMOjl",
        "outputId": "23f0a906-c0c2-43df-838e-ee9bdf13e4b6"
      },
      "outputs": [
        {
          "output_type": "stream",
          "name": "stdout",
          "text": [
            "Downloading http://yann.lecun.com/exdb/mnist/train-images-idx3-ubyte.gz\n",
            "Downloading http://yann.lecun.com/exdb/mnist/train-images-idx3-ubyte.gz to /content/drive/MyDrive/Colab Notebooks/GAN/C-GAN/C-GAN_PyTorch/mnist/MNIST/raw/train-images-idx3-ubyte.gz\n"
          ]
        },
        {
          "output_type": "stream",
          "name": "stderr",
          "text": [
            "100%|██████████| 9912422/9912422 [00:00<00:00, 341108851.40it/s]"
          ]
        },
        {
          "output_type": "stream",
          "name": "stdout",
          "text": [
            "Extracting /content/drive/MyDrive/Colab Notebooks/GAN/C-GAN/C-GAN_PyTorch/mnist/MNIST/raw/train-images-idx3-ubyte.gz to /content/drive/MyDrive/Colab Notebooks/GAN/C-GAN/C-GAN_PyTorch/mnist/MNIST/raw\n"
          ]
        },
        {
          "output_type": "stream",
          "name": "stderr",
          "text": [
            "\n"
          ]
        },
        {
          "output_type": "stream",
          "name": "stdout",
          "text": [
            "\n",
            "Downloading http://yann.lecun.com/exdb/mnist/train-labels-idx1-ubyte.gz\n",
            "Downloading http://yann.lecun.com/exdb/mnist/train-labels-idx1-ubyte.gz to /content/drive/MyDrive/Colab Notebooks/GAN/C-GAN/C-GAN_PyTorch/mnist/MNIST/raw/train-labels-idx1-ubyte.gz\n"
          ]
        },
        {
          "output_type": "stream",
          "name": "stderr",
          "text": [
            "100%|██████████| 28881/28881 [00:00<00:00, 88162804.82it/s]\n"
          ]
        },
        {
          "output_type": "stream",
          "name": "stdout",
          "text": [
            "Extracting /content/drive/MyDrive/Colab Notebooks/GAN/C-GAN/C-GAN_PyTorch/mnist/MNIST/raw/train-labels-idx1-ubyte.gz to /content/drive/MyDrive/Colab Notebooks/GAN/C-GAN/C-GAN_PyTorch/mnist/MNIST/raw\n",
            "\n",
            "Downloading http://yann.lecun.com/exdb/mnist/t10k-images-idx3-ubyte.gz\n",
            "Downloading http://yann.lecun.com/exdb/mnist/t10k-images-idx3-ubyte.gz to /content/drive/MyDrive/Colab Notebooks/GAN/C-GAN/C-GAN_PyTorch/mnist/MNIST/raw/t10k-images-idx3-ubyte.gz\n"
          ]
        },
        {
          "output_type": "stream",
          "name": "stderr",
          "text": [
            "100%|██████████| 1648877/1648877 [00:00<00:00, 83999021.01it/s]"
          ]
        },
        {
          "output_type": "stream",
          "name": "stdout",
          "text": [
            "Extracting /content/drive/MyDrive/Colab Notebooks/GAN/C-GAN/C-GAN_PyTorch/mnist/MNIST/raw/t10k-images-idx3-ubyte.gz to /content/drive/MyDrive/Colab Notebooks/GAN/C-GAN/C-GAN_PyTorch/mnist/MNIST/raw\n"
          ]
        },
        {
          "output_type": "stream",
          "name": "stderr",
          "text": [
            "\n"
          ]
        },
        {
          "output_type": "stream",
          "name": "stdout",
          "text": [
            "\n",
            "Downloading http://yann.lecun.com/exdb/mnist/t10k-labels-idx1-ubyte.gz\n",
            "Downloading http://yann.lecun.com/exdb/mnist/t10k-labels-idx1-ubyte.gz to /content/drive/MyDrive/Colab Notebooks/GAN/C-GAN/C-GAN_PyTorch/mnist/MNIST/raw/t10k-labels-idx1-ubyte.gz\n"
          ]
        },
        {
          "output_type": "stream",
          "name": "stderr",
          "text": [
            "100%|██████████| 4542/4542 [00:00<00:00, 17445539.16it/s]\n"
          ]
        },
        {
          "output_type": "stream",
          "name": "stdout",
          "text": [
            "Extracting /content/drive/MyDrive/Colab Notebooks/GAN/C-GAN/C-GAN_PyTorch/mnist/MNIST/raw/t10k-labels-idx1-ubyte.gz to /content/drive/MyDrive/Colab Notebooks/GAN/C-GAN/C-GAN_PyTorch/mnist/MNIST/raw\n",
            "\n",
            "device: cuda\n"
          ]
        }
      ],
      "source": [
        "import torch\n",
        "import torchvision.datasets as datasets\n",
        "import torchvision.transforms as transforms\n",
        "\n",
        "dataset = datasets.MNIST(\n",
        "    root='/content/drive/MyDrive/Colab Notebooks/GAN/C-GAN/C-GAN_PyTorch/mnist',\n",
        "    download=True,\n",
        "    train=True,\n",
        "    transform=transforms.Compose([\n",
        "        transforms.ToTensor(),\n",
        "        transforms.Normalize((0.5,), (0.5,))\n",
        "    ])\n",
        ")\n",
        "\n",
        "batch_size = 50\n",
        "dataloader = torch.utils.data.DataLoader(\n",
        "    dataset,\n",
        "    batch_size=batch_size,\n",
        "    shuffle=True\n",
        ")\n",
        "\n",
        "device = torch.device('cuda' if torch.cuda.is_available() else 'cpu')\n",
        "print('device:', device)"
      ]
    },
    {
      "cell_type": "code",
      "source": [
        "import torch.nn as nn\n",
        "\n",
        "class Discriminator(nn.Module):\n",
        "    '''識別器のクラス\n",
        "    Attributes:\n",
        "        layers: Sequentialオブジェクトのリスト\n",
        "    '''\n",
        "    def __init__(self):\n",
        "        '''識別器のネットワークを構築する\n",
        "        '''\n",
        "        super(Discriminator, self).__init__()\n",
        "\n",
        "        in_ch = 1+10\n",
        "        start_ch = 128\n",
        "\n",
        "        self.layers = nn.ModuleList([\n",
        "            nn.Sequential(\n",
        "                nn.Conv2d(\n",
        "                    in_ch,\n",
        "                    start_ch,\n",
        "                    4,\n",
        "                    2,\n",
        "                    1\n",
        "                ),\n",
        "                nn.LeakyReLU(negative_slope=0.2)\n",
        "            ),\n",
        "            nn.Sequential(\n",
        "                nn.Conv2d(\n",
        "                    start_ch,\n",
        "                    start_ch * 2,\n",
        "                    4,\n",
        "                    2,\n",
        "                    1\n",
        "                ),\n",
        "                nn.BatchNorm2d(start_ch * 2),\n",
        "                nn.LeakyReLU(negative_slope=0.2)\n",
        "            ),\n",
        "            nn.Sequential(\n",
        "                nn.Conv2d(\n",
        "                    start_ch * 2,\n",
        "                    start_ch * 4,\n",
        "                    3,\n",
        "                    2,\n",
        "                    0\n",
        "                ),\n",
        "                nn.BatchNorm2d(start_ch * 4),\n",
        "                nn.LeakyReLU(negative_slope=0.2)\n",
        "            ),\n",
        "            nn.Sequential(\n",
        "                nn.Conv2d(\n",
        "                    start_ch * 4,\n",
        "                    1,\n",
        "                    3,\n",
        "                    1,\n",
        "                    0\n",
        "                ),\n",
        "                nn.Sigmoid()\n",
        "            ),\n",
        "        ])\n",
        "    \n",
        "    def forward(self, x):\n",
        "        '''順伝播処理\n",
        "        Parameter:\n",
        "            x: 画像データまたは生成画像\n",
        "        '''\n",
        "        for layer in self.layers:\n",
        "            x = layer(x)\n",
        "        \n",
        "        return x.squeeze()"
      ],
      "metadata": {
        "id": "pSRhWv5WPgI6"
      },
      "execution_count": 2,
      "outputs": []
    },
    {
      "cell_type": "code",
      "source": [
        "class Generator(nn.Module):\n",
        "    '''生成器のクラス\n",
        "    Attributes:\n",
        "        layers: Sequentialオブジェクトのリスト\n",
        "    '''\n",
        "    def __init__(self):\n",
        "        '''生成器のネットワークを構築する\n",
        "        '''\n",
        "        super(Generator, self).__init__()\n",
        "\n",
        "        input_dim = 100+10\n",
        "        out_ch = 128\n",
        "        img_ch = 1\n",
        "\n",
        "        self.layers = nn.ModuleList([\n",
        "            nn.Sequential(\n",
        "                nn.ConvTranspose2d(\n",
        "                    input_dim,\n",
        "                    out_ch * 4,\n",
        "                    3,\n",
        "                    1,\n",
        "                    0\n",
        "                ),\n",
        "                nn.BatchNorm2d(out_ch * 4),\n",
        "                nn.ReLU()\n",
        "            ),\n",
        "            nn.Sequential(\n",
        "                nn.ConvTranspose2d(\n",
        "                    out_ch * 4,\n",
        "                    out_ch * 2,\n",
        "                    3,\n",
        "                    2,\n",
        "                    0\n",
        "                ),\n",
        "                nn.BatchNorm2d(out_ch * 2),\n",
        "                nn.ReLU()\n",
        "            ),\n",
        "            nn.Sequential(\n",
        "                nn.ConvTranspose2d(\n",
        "                    out_ch * 2,\n",
        "                    out_ch ,\n",
        "                    4,\n",
        "                    2,\n",
        "                    1\n",
        "                ),\n",
        "                nn.BatchNorm2d(out_ch),\n",
        "                nn.ReLU()\n",
        "            ),\n",
        "            nn.Sequential(\n",
        "                nn.ConvTranspose2d(\n",
        "                    out_ch,\n",
        "                    img_ch,\n",
        "                    4,\n",
        "                    2,\n",
        "                    1\n",
        "                ),\n",
        "                nn.Tanh()\n",
        "            ),\n",
        "        ])\n",
        "    \n",
        "    def forward(self, z):\n",
        "        '''順伝播処理\n",
        "        Parameter:\n",
        "            z: 識別器の出力\n",
        "        '''\n",
        "        for layer in self.layers:\n",
        "            z = layer(z)\n",
        "        \n",
        "        return z"
      ],
      "metadata": {
        "id": "slgrSrE_P3Kb"
      },
      "execution_count": 3,
      "outputs": []
    },
    {
      "cell_type": "code",
      "source": [
        "def weights_init(m):\n",
        "    '''\n",
        "    DCGANの論文では重みを正規分布からサンプリングした値で初期化している\n",
        "    Parameters:\n",
        "        m: ネットワークのインスタンス\n",
        "    '''\n",
        "    classname = m.__class__.__name__\n",
        "    if classname.find('Conv') != -1:\n",
        "        m.weight.data.normal_(0.0, 0.02)\n",
        "        m.bias.data.fill_(0)\n",
        "    elif classname.find('BatchNorm') != -1:\n",
        "        m.weight.data.normal_(1.0, 0.02)\n",
        "        m.bias.data.fill_(0)"
      ],
      "metadata": {
        "id": "0nA1izkdQWo8"
      },
      "execution_count": 4,
      "outputs": []
    },
    {
      "cell_type": "code",
      "source": [
        "import torchsummary\n",
        "\n",
        "generator = Generator().to(device)\n",
        "generator.apply(weights_init)\n",
        "torchsummary.summary(generator, (110, 1, 1))"
      ],
      "metadata": {
        "colab": {
          "base_uri": "https://localhost:8080/"
        },
        "id": "Qt8O4bMOQcSe",
        "outputId": "a037fe7a-d1b7-4c67-b027-9d181f887ca0"
      },
      "execution_count": 5,
      "outputs": [
        {
          "output_type": "stream",
          "name": "stdout",
          "text": [
            "----------------------------------------------------------------\n",
            "        Layer (type)               Output Shape         Param #\n",
            "================================================================\n",
            "   ConvTranspose2d-1            [-1, 512, 3, 3]         507,392\n",
            "       BatchNorm2d-2            [-1, 512, 3, 3]           1,024\n",
            "              ReLU-3            [-1, 512, 3, 3]               0\n",
            "   ConvTranspose2d-4            [-1, 256, 7, 7]       1,179,904\n",
            "       BatchNorm2d-5            [-1, 256, 7, 7]             512\n",
            "              ReLU-6            [-1, 256, 7, 7]               0\n",
            "   ConvTranspose2d-7          [-1, 128, 14, 14]         524,416\n",
            "       BatchNorm2d-8          [-1, 128, 14, 14]             256\n",
            "              ReLU-9          [-1, 128, 14, 14]               0\n",
            "  ConvTranspose2d-10            [-1, 1, 28, 28]           2,049\n",
            "             Tanh-11            [-1, 1, 28, 28]               0\n",
            "================================================================\n",
            "Total params: 2,215,553\n",
            "Trainable params: 2,215,553\n",
            "Non-trainable params: 0\n",
            "----------------------------------------------------------------\n",
            "Input size (MB): 0.00\n",
            "Forward/backward pass size (MB): 0.98\n",
            "Params size (MB): 8.45\n",
            "Estimated Total Size (MB): 9.43\n",
            "----------------------------------------------------------------\n"
          ]
        }
      ]
    },
    {
      "cell_type": "code",
      "source": [
        "discriminator = Discriminator().to(device)\n",
        "discriminator.apply(weights_init)\n",
        "torchsummary.summary(discriminator, (11, 28, 28))"
      ],
      "metadata": {
        "colab": {
          "base_uri": "https://localhost:8080/"
        },
        "id": "eyLnk7aFQjYC",
        "outputId": "4239410b-eceb-4be6-aec6-a968de472090"
      },
      "execution_count": 6,
      "outputs": [
        {
          "output_type": "stream",
          "name": "stdout",
          "text": [
            "----------------------------------------------------------------\n",
            "        Layer (type)               Output Shape         Param #\n",
            "================================================================\n",
            "            Conv2d-1          [-1, 128, 14, 14]          22,656\n",
            "         LeakyReLU-2          [-1, 128, 14, 14]               0\n",
            "            Conv2d-3            [-1, 256, 7, 7]         524,544\n",
            "       BatchNorm2d-4            [-1, 256, 7, 7]             512\n",
            "         LeakyReLU-5            [-1, 256, 7, 7]               0\n",
            "            Conv2d-6            [-1, 512, 3, 3]       1,180,160\n",
            "       BatchNorm2d-7            [-1, 512, 3, 3]           1,024\n",
            "         LeakyReLU-8            [-1, 512, 3, 3]               0\n",
            "            Conv2d-9              [-1, 1, 1, 1]           4,609\n",
            "          Sigmoid-10              [-1, 1, 1, 1]               0\n",
            "================================================================\n",
            "Total params: 1,733,505\n",
            "Trainable params: 1,733,505\n",
            "Non-trainable params: 0\n",
            "----------------------------------------------------------------\n",
            "Input size (MB): 0.03\n",
            "Forward/backward pass size (MB): 0.78\n",
            "Params size (MB): 6.61\n",
            "Estimated Total Size (MB): 7.42\n",
            "----------------------------------------------------------------\n"
          ]
        }
      ]
    },
    {
      "cell_type": "code",
      "source": [
        "import torch.optim as optim\n",
        "\n",
        "criterion = nn.BCELoss()\n",
        "optimizer_ds = optim.Adam(\n",
        "    discriminator.parameters(),\n",
        "    lr=0.0002\n",
        ")\n",
        "\n",
        "optimizer_gn = optim.Adam(\n",
        "    generator.parameters(),\n",
        "    lr=0.0003\n",
        ")"
      ],
      "metadata": {
        "id": "cGM4gQofQtVn"
      },
      "execution_count": 7,
      "outputs": []
    },
    {
      "cell_type": "code",
      "source": [
        "def encoder(label, device, n_class=10):\n",
        "    '''正解ラベルをone-hot表現に変換する\n",
        "    Parameters:\n",
        "        label: 変換対象の正解ラベル\n",
        "        device: 使用するデバイス\n",
        "        n_class: 分類先のクラス数\n",
        "    '''\n",
        "    one_hot = torch.eye(n_class, device=device)\n",
        "    return one_hot[label].view(-1, n_class, 1, 1)"
      ],
      "metadata": {
        "id": "mRxDKTFsQ5u7"
      },
      "execution_count": 8,
      "outputs": []
    },
    {
      "cell_type": "code",
      "source": [
        "def concat_img_label(image, label, device, n_class=10):\n",
        "    '''画像のテンソルとラベルのテンソルを連結して\n",
        "    　　　識別器に入力するテンソルを作成する\n",
        "    Parameters:\n",
        "        image: 画像データを格納したテンソル(bs, 1, 28, 28)\n",
        "        label: 正解ラベル\n",
        "        device: 使用可能なデバイス\n",
        "        n_class: 分類先のデバイス\n",
        "    Return:\n",
        "        画像とOne-hot化ラベルを結合したテンソル\n",
        "        (bs, 11, 28, 28)\n",
        "    '''\n",
        "    bs, ch, h, w = image.shape\n",
        "    oh_label = encoder(label, device)\n",
        "    oh_label = oh_label.expand(bs, n_class, h, w)\n",
        "    return torch.cat((image, oh_label), dim=1)"
      ],
      "metadata": {
        "id": "l04kaSlvRiyY"
      },
      "execution_count": 16,
      "outputs": []
    },
    {
      "cell_type": "code",
      "source": [
        "def concat_noise_label(noise, label, device):\n",
        "    '''ノイズのテンソルとラベルのテンソルを連結して\n",
        "      生成器に入力するテンソルを作成する\n",
        "    Parameters:\n",
        "        noise(Tensor): ノイズのテンソル（bs, 100, 1, 1）\n",
        "        label(int): 正解ラベル\n",
        "        device: 使用するデバイス\n",
        "    Return:\n",
        "        ノイズとOne-hot化ラベルを連結したテンソル\n",
        "        （bs, 110, 1, 1）\n",
        "    '''\n",
        "    oh_label = encoder(label, device)\n",
        "    return torch.cat((noise, oh_label), dim=1)"
      ],
      "metadata": {
        "id": "jJPDLBcUS6B-"
      },
      "execution_count": 10,
      "outputs": []
    },
    {
      "cell_type": "code",
      "source": [
        "noise_num = 100\n",
        "\n",
        "fixed_noise = torch.randn(\n",
        "    batch_size,\n",
        "    noise_num,\n",
        "    1,\n",
        "    1,\n",
        "    device=device\n",
        ")\n",
        "fixed_label = [i for i in range(10)] * (batch_size // 10)\n",
        "fixed_label = torch.tensor(fixed_label, dtype=torch.long, device=device)\n",
        "fixed_noise_label = concat_noise_label(fixed_noise, fixed_label, device)"
      ],
      "metadata": {
        "id": "9nJFDNpZURs7"
      },
      "execution_count": 11,
      "outputs": []
    },
    {
      "cell_type": "code",
      "source": [
        "%%time\n",
        "import torchvision.utils as vutils\n",
        "\n",
        "n_epoch = 10\n",
        "\n",
        "outf = '/content/drive/MyDrive/Colab Notebooks/GAN/C-GAN/C-GAN_PyTorch/result'\n",
        "\n",
        "for epoch in range(n_epoch):\n",
        "    print('Epoch {}/{}'.format(epoch+1, n_epoch))\n",
        "\n",
        "    for itr, data in enumerate(dataloader):\n",
        "        real_image = data[0].to(device)\n",
        "        real_label = data[1].to(device)\n",
        "        real_image_label = concat_img_label(real_image, real_label, device)\n",
        "        noise = torch.randn(batch_size, noise_num, 1, 1, device=device)\n",
        "        fake_label = torch.randint(10, (batch_size,), dtype=torch.long, device=device)\n",
        "        fake_noise_label = concat_noise_label(noise, fake_label, device)\n",
        "        real_target = torch.full((batch_size,), 1., device=device)\n",
        "        fake_target = torch.full((batch_size,), 0., device=device)\n",
        "        \n",
        "        discriminator.zero_grad()\n",
        "        output = discriminator(real_image_label)\n",
        "        ds_real_err = criterion(output, real_target)\n",
        "        true_dsout_mean = output.mean().item()\n",
        "\n",
        "        fake_image = generator(fake_noise_label)\n",
        "        fake_image_label = concat_img_label(fake_image, fake_label, device)\n",
        "\n",
        "        output = discriminator(fake_image_label.detach())\n",
        "        ds_fake_err = criterion(output, fake_target)\n",
        "        fake_dsout_mean1 = output.mean().item()\n",
        "        ds_err = ds_real_err + ds_fake_err\n",
        "\n",
        "        ds_err.backward()\n",
        "\n",
        "        optimizer_ds.step()\n",
        "\n",
        "        generator.zero_grad()\n",
        "        output = discriminator(fake_image_label)\n",
        "        gn_err = criterion(output, real_target)\n",
        "        gn_err.backward()\n",
        "        fake_dsout_mean2 = output.mean().item()\n",
        "        optimizer_gn.step()\n",
        "\n",
        "        if itr % 100 == 0:\n",
        "            print('({}/{}) ds_loss: {:.3f} - gn_loss: {:.3f} - true_out: {:.3f} - fake_out: {:.3f}>>{:.3f}'.format(\n",
        "                itr+1,\n",
        "                len(dataloader),\n",
        "                ds_err.item(),\n",
        "                gn_err.item(),\n",
        "                true_dsout_mean,\n",
        "                fake_dsout_mean1,\n",
        "                fake_dsout_mean2\n",
        "            ))\n",
        "\n",
        "        if epoch == 0 and itr == 0:\n",
        "            vutils.save_image(\n",
        "                real_image,\n",
        "                '{}/real_samples.png'.format(outf),\n",
        "                normalize=True,\n",
        "                nrow=10)\n",
        "        \n",
        "        fake_image = generator(fixed_noise_label)\n",
        "        vutils.save_image(\n",
        "            fake_image.detach(),\n",
        "            '{}/generated_epoch_{:03d}.png'.format(outf, epoch+1),\n",
        "            normalize=True,\n",
        "            nrow=10\n",
        "        )"
      ],
      "metadata": {
        "colab": {
          "base_uri": "https://localhost:8080/"
        },
        "id": "xWrMt_PbU0wt",
        "outputId": "6843086a-1c7b-41be-84e2-bce43b5fe935"
      },
      "execution_count": 28,
      "outputs": [
        {
          "output_type": "stream",
          "name": "stdout",
          "text": [
            "Epoch 1/10\n",
            "(1/1200) ds_loss: 0.084 - gn_loss: 5.758 - true_out: 0.958 - fake_out: 0.008>>0.004\n",
            "(101/1200) ds_loss: 0.002 - gn_loss: 8.947 - true_out: 0.999 - fake_out: 0.001>>0.001\n",
            "(201/1200) ds_loss: 0.013 - gn_loss: 6.504 - true_out: 0.993 - fake_out: 0.005>>0.003\n",
            "(301/1200) ds_loss: 0.030 - gn_loss: 5.218 - true_out: 0.983 - fake_out: 0.011>>0.007\n",
            "(401/1200) ds_loss: 0.031 - gn_loss: 6.392 - true_out: 0.996 - fake_out: 0.025>>0.006\n",
            "(501/1200) ds_loss: 0.024 - gn_loss: 6.846 - true_out: 0.997 - fake_out: 0.020>>0.005\n",
            "(601/1200) ds_loss: 0.196 - gn_loss: 6.175 - true_out: 0.938 - fake_out: 0.075>>0.016\n",
            "(701/1200) ds_loss: 0.155 - gn_loss: 6.647 - true_out: 0.909 - fake_out: 0.010>>0.007\n",
            "(801/1200) ds_loss: 0.171 - gn_loss: 7.387 - true_out: 0.933 - fake_out: 0.013>>0.004\n",
            "(901/1200) ds_loss: 0.083 - gn_loss: 6.774 - true_out: 0.950 - fake_out: 0.014>>0.017\n",
            "(1001/1200) ds_loss: 0.189 - gn_loss: 5.956 - true_out: 0.892 - fake_out: 0.008>>0.022\n",
            "(1101/1200) ds_loss: 0.073 - gn_loss: 6.459 - true_out: 0.973 - fake_out: 0.033>>0.012\n",
            "Epoch 2/10\n",
            "(1/1200) ds_loss: 0.034 - gn_loss: 6.455 - true_out: 0.975 - fake_out: 0.006>>0.006\n",
            "(101/1200) ds_loss: 0.134 - gn_loss: 6.871 - true_out: 0.960 - fake_out: 0.049>>0.009\n",
            "(201/1200) ds_loss: 0.167 - gn_loss: 4.683 - true_out: 0.931 - fake_out: 0.054>>0.048\n",
            "(301/1200) ds_loss: 0.143 - gn_loss: 7.512 - true_out: 0.923 - fake_out: 0.012>>0.005\n",
            "(401/1200) ds_loss: 0.322 - gn_loss: 3.519 - true_out: 0.838 - fake_out: 0.064>>0.084\n",
            "(501/1200) ds_loss: 0.439 - gn_loss: 5.374 - true_out: 0.990 - fake_out: 0.257>>0.017\n",
            "(601/1200) ds_loss: 0.295 - gn_loss: 4.099 - true_out: 0.932 - fake_out: 0.109>>0.069\n",
            "(701/1200) ds_loss: 0.132 - gn_loss: 6.896 - true_out: 0.955 - fake_out: 0.058>>0.028\n",
            "(801/1200) ds_loss: 0.285 - gn_loss: 2.945 - true_out: 0.924 - fake_out: 0.140>>0.164\n",
            "(901/1200) ds_loss: 0.305 - gn_loss: 3.291 - true_out: 0.918 - fake_out: 0.135>>0.122\n",
            "(1001/1200) ds_loss: 0.198 - gn_loss: 5.225 - true_out: 0.893 - fake_out: 0.034>>0.031\n",
            "(1101/1200) ds_loss: 0.714 - gn_loss: 3.401 - true_out: 0.704 - fake_out: 0.120>>0.117\n",
            "Epoch 3/10\n",
            "(1/1200) ds_loss: 0.322 - gn_loss: 5.192 - true_out: 0.867 - fake_out: 0.075>>0.048\n",
            "(101/1200) ds_loss: 0.178 - gn_loss: 5.586 - true_out: 0.918 - fake_out: 0.062>>0.021\n",
            "(201/1200) ds_loss: 1.166 - gn_loss: 3.152 - true_out: 0.974 - fake_out: 0.514>>0.118\n",
            "(301/1200) ds_loss: 0.506 - gn_loss: 2.095 - true_out: 0.992 - fake_out: 0.271>>0.273\n",
            "(401/1200) ds_loss: 0.358 - gn_loss: 3.800 - true_out: 0.894 - fake_out: 0.129>>0.089\n",
            "(501/1200) ds_loss: 0.086 - gn_loss: 5.644 - true_out: 0.955 - fake_out: 0.030>>0.014\n",
            "(601/1200) ds_loss: 0.630 - gn_loss: 3.574 - true_out: 0.839 - fake_out: 0.214>>0.100\n",
            "(701/1200) ds_loss: 0.134 - gn_loss: 6.028 - true_out: 0.933 - fake_out: 0.042>>0.021\n",
            "(801/1200) ds_loss: 0.134 - gn_loss: 5.905 - true_out: 0.938 - fake_out: 0.048>>0.028\n",
            "(901/1200) ds_loss: 0.350 - gn_loss: 3.490 - true_out: 0.882 - fake_out: 0.144>>0.085\n",
            "(1001/1200) ds_loss: 0.495 - gn_loss: 3.721 - true_out: 0.795 - fake_out: 0.116>>0.097\n",
            "(1101/1200) ds_loss: 1.249 - gn_loss: 2.014 - true_out: 0.868 - fake_out: 0.468>>0.326\n",
            "Epoch 4/10\n",
            "(1/1200) ds_loss: 0.492 - gn_loss: 2.714 - true_out: 0.899 - fake_out: 0.220>>0.143\n",
            "(101/1200) ds_loss: 0.220 - gn_loss: 3.094 - true_out: 0.933 - fake_out: 0.123>>0.102\n",
            "(201/1200) ds_loss: 0.437 - gn_loss: 2.432 - true_out: 0.876 - fake_out: 0.211>>0.157\n",
            "(301/1200) ds_loss: 0.463 - gn_loss: 3.150 - true_out: 0.821 - fake_out: 0.160>>0.114\n",
            "(401/1200) ds_loss: 0.769 - gn_loss: 3.075 - true_out: 0.661 - fake_out: 0.147>>0.120\n",
            "(501/1200) ds_loss: 0.566 - gn_loss: 1.783 - true_out: 0.812 - fake_out: 0.190>>0.251\n",
            "(601/1200) ds_loss: 0.874 - gn_loss: 2.588 - true_out: 0.685 - fake_out: 0.183>>0.164\n",
            "(701/1200) ds_loss: 0.457 - gn_loss: 3.177 - true_out: 0.782 - fake_out: 0.115>>0.103\n",
            "(801/1200) ds_loss: 0.879 - gn_loss: 1.425 - true_out: 0.857 - fake_out: 0.424>>0.328\n",
            "(901/1200) ds_loss: 0.917 - gn_loss: 1.779 - true_out: 0.762 - fake_out: 0.350>>0.282\n",
            "(1001/1200) ds_loss: 0.419 - gn_loss: 3.003 - true_out: 0.779 - fake_out: 0.102>>0.109\n",
            "(1101/1200) ds_loss: 0.727 - gn_loss: 1.785 - true_out: 0.836 - fake_out: 0.333>>0.260\n",
            "Epoch 5/10\n",
            "(1/1200) ds_loss: 0.868 - gn_loss: 1.910 - true_out: 0.694 - fake_out: 0.255>>0.262\n",
            "(101/1200) ds_loss: 0.642 - gn_loss: 2.210 - true_out: 0.909 - fake_out: 0.331>>0.221\n",
            "(201/1200) ds_loss: 0.845 - gn_loss: 2.766 - true_out: 0.634 - fake_out: 0.162>>0.144\n",
            "(301/1200) ds_loss: 0.822 - gn_loss: 1.591 - true_out: 0.825 - fake_out: 0.354>>0.337\n",
            "(401/1200) ds_loss: 1.122 - gn_loss: 2.115 - true_out: 0.590 - fake_out: 0.278>>0.244\n",
            "(501/1200) ds_loss: 0.901 - gn_loss: 2.269 - true_out: 0.654 - fake_out: 0.243>>0.201\n",
            "(601/1200) ds_loss: 1.171 - gn_loss: 1.225 - true_out: 0.681 - fake_out: 0.432>>0.366\n",
            "(701/1200) ds_loss: 0.950 - gn_loss: 1.891 - true_out: 0.634 - fake_out: 0.264>>0.228\n",
            "(801/1200) ds_loss: 0.890 - gn_loss: 2.342 - true_out: 0.627 - fake_out: 0.213>>0.151\n",
            "(901/1200) ds_loss: 0.772 - gn_loss: 1.615 - true_out: 0.830 - fake_out: 0.364>>0.293\n",
            "(1001/1200) ds_loss: 1.160 - gn_loss: 1.910 - true_out: 0.776 - fake_out: 0.468>>0.244\n",
            "(1101/1200) ds_loss: 1.281 - gn_loss: 2.589 - true_out: 0.436 - fake_out: 0.146>>0.125\n",
            "Epoch 6/10\n",
            "(1/1200) ds_loss: 0.763 - gn_loss: 1.444 - true_out: 0.815 - fake_out: 0.359>>0.313\n",
            "(101/1200) ds_loss: 1.053 - gn_loss: 1.100 - true_out: 0.752 - fake_out: 0.438>>0.432\n",
            "(201/1200) ds_loss: 1.901 - gn_loss: 1.194 - true_out: 0.507 - fake_out: 0.523>>0.396\n",
            "(301/1200) ds_loss: 1.100 - gn_loss: 1.173 - true_out: 0.777 - fake_out: 0.451>>0.406\n",
            "(401/1200) ds_loss: 1.080 - gn_loss: 2.108 - true_out: 0.541 - fake_out: 0.220>>0.194\n",
            "(501/1200) ds_loss: 0.818 - gn_loss: 1.806 - true_out: 0.709 - fake_out: 0.297>>0.234\n",
            "(601/1200) ds_loss: 0.753 - gn_loss: 1.435 - true_out: 0.743 - fake_out: 0.307>>0.301\n",
            "(701/1200) ds_loss: 1.014 - gn_loss: 1.564 - true_out: 0.631 - fake_out: 0.302>>0.274\n",
            "(801/1200) ds_loss: 1.064 - gn_loss: 2.000 - true_out: 0.478 - fake_out: 0.172>>0.182\n",
            "(901/1200) ds_loss: 0.919 - gn_loss: 1.198 - true_out: 0.762 - fake_out: 0.409>>0.390\n",
            "(1001/1200) ds_loss: 1.267 - gn_loss: 0.835 - true_out: 0.722 - fake_out: 0.522>>0.506\n",
            "(1101/1200) ds_loss: 1.240 - gn_loss: 1.337 - true_out: 0.563 - fake_out: 0.380>>0.344\n",
            "Epoch 7/10\n",
            "(1/1200) ds_loss: 0.697 - gn_loss: 1.674 - true_out: 0.775 - fake_out: 0.304>>0.258\n",
            "(101/1200) ds_loss: 1.132 - gn_loss: 1.088 - true_out: 0.846 - fake_out: 0.544>>0.416\n",
            "(201/1200) ds_loss: 1.173 - gn_loss: 1.045 - true_out: 0.642 - fake_out: 0.431>>0.412\n",
            "(301/1200) ds_loss: 1.447 - gn_loss: 0.971 - true_out: 0.592 - fake_out: 0.480>>0.478\n",
            "(401/1200) ds_loss: 1.020 - gn_loss: 1.525 - true_out: 0.612 - fake_out: 0.313>>0.280\n",
            "(501/1200) ds_loss: 0.622 - gn_loss: 1.771 - true_out: 0.853 - fake_out: 0.295>>0.244\n",
            "(601/1200) ds_loss: 1.045 - gn_loss: 1.461 - true_out: 0.608 - fake_out: 0.314>>0.300\n",
            "(701/1200) ds_loss: 1.804 - gn_loss: 0.697 - true_out: 0.523 - fake_out: 0.592>>0.547\n",
            "(801/1200) ds_loss: 0.937 - gn_loss: 1.096 - true_out: 0.860 - fake_out: 0.467>>0.393\n",
            "(901/1200) ds_loss: 1.159 - gn_loss: 1.377 - true_out: 0.574 - fake_out: 0.352>>0.330\n",
            "(1001/1200) ds_loss: 1.323 - gn_loss: 1.808 - true_out: 0.435 - fake_out: 0.232>>0.212\n",
            "(1101/1200) ds_loss: 1.432 - gn_loss: 1.237 - true_out: 0.510 - fake_out: 0.404>>0.353\n",
            "Epoch 8/10\n",
            "(1/1200) ds_loss: 1.368 - gn_loss: 1.076 - true_out: 0.675 - fake_out: 0.500>>0.430\n",
            "(101/1200) ds_loss: 1.155 - gn_loss: 2.001 - true_out: 0.499 - fake_out: 0.211>>0.211\n",
            "(201/1200) ds_loss: 1.169 - gn_loss: 1.311 - true_out: 0.674 - fake_out: 0.443>>0.339\n",
            "(301/1200) ds_loss: 1.214 - gn_loss: 0.965 - true_out: 0.695 - fake_out: 0.479>>0.458\n",
            "(401/1200) ds_loss: 1.052 - gn_loss: 1.014 - true_out: 0.612 - fake_out: 0.369>>0.407\n",
            "(501/1200) ds_loss: 1.201 - gn_loss: 1.394 - true_out: 0.559 - fake_out: 0.365>>0.302\n",
            "(601/1200) ds_loss: 1.392 - gn_loss: 0.971 - true_out: 0.559 - fake_out: 0.456>>0.419\n",
            "(701/1200) ds_loss: 1.338 - gn_loss: 1.388 - true_out: 0.485 - fake_out: 0.334>>0.306\n",
            "(801/1200) ds_loss: 1.158 - gn_loss: 0.855 - true_out: 0.714 - fake_out: 0.480>>0.479\n",
            "(901/1200) ds_loss: 1.146 - gn_loss: 1.078 - true_out: 0.675 - fake_out: 0.453>>0.393\n",
            "(1001/1200) ds_loss: 1.411 - gn_loss: 0.928 - true_out: 0.539 - fake_out: 0.443>>0.452\n",
            "(1101/1200) ds_loss: 1.182 - gn_loss: 0.899 - true_out: 0.614 - fake_out: 0.427>>0.460\n",
            "Epoch 9/10\n",
            "(1/1200) ds_loss: 0.892 - gn_loss: 1.279 - true_out: 0.664 - fake_out: 0.312>>0.324\n",
            "(101/1200) ds_loss: 1.039 - gn_loss: 0.912 - true_out: 0.710 - fake_out: 0.446>>0.457\n",
            "(201/1200) ds_loss: 1.061 - gn_loss: 1.115 - true_out: 0.752 - fake_out: 0.459>>0.386\n",
            "(301/1200) ds_loss: 0.754 - gn_loss: 1.628 - true_out: 0.732 - fake_out: 0.305>>0.239\n",
            "(401/1200) ds_loss: 1.345 - gn_loss: 1.204 - true_out: 0.526 - fake_out: 0.415>>0.363\n",
            "(501/1200) ds_loss: 1.818 - gn_loss: 0.740 - true_out: 0.453 - fake_out: 0.538>>0.529\n",
            "(601/1200) ds_loss: 0.971 - gn_loss: 1.317 - true_out: 0.639 - fake_out: 0.356>>0.309\n",
            "(701/1200) ds_loss: 0.818 - gn_loss: 1.417 - true_out: 0.716 - fake_out: 0.345>>0.280\n",
            "(801/1200) ds_loss: 2.025 - gn_loss: 0.560 - true_out: 0.487 - fake_out: 0.648>>0.607\n",
            "(901/1200) ds_loss: 1.051 - gn_loss: 1.202 - true_out: 0.597 - fake_out: 0.353>>0.341\n",
            "(1001/1200) ds_loss: 0.864 - gn_loss: 1.400 - true_out: 0.681 - fake_out: 0.341>>0.294\n",
            "(1101/1200) ds_loss: 0.926 - gn_loss: 1.455 - true_out: 0.602 - fake_out: 0.263>>0.310\n",
            "Epoch 10/10\n",
            "(1/1200) ds_loss: 1.166 - gn_loss: 1.509 - true_out: 0.521 - fake_out: 0.294>>0.266\n",
            "(101/1200) ds_loss: 1.149 - gn_loss: 0.730 - true_out: 0.709 - fake_out: 0.506>>0.518\n",
            "(201/1200) ds_loss: 1.437 - gn_loss: 0.963 - true_out: 0.572 - fake_out: 0.523>>0.423\n",
            "(301/1200) ds_loss: 1.592 - gn_loss: 0.587 - true_out: 0.648 - fake_out: 0.637>>0.591\n",
            "(401/1200) ds_loss: 1.205 - gn_loss: 1.363 - true_out: 0.546 - fake_out: 0.364>>0.305\n",
            "(501/1200) ds_loss: 1.179 - gn_loss: 1.395 - true_out: 0.490 - fake_out: 0.294>>0.293\n",
            "(601/1200) ds_loss: 0.978 - gn_loss: 1.119 - true_out: 0.624 - fake_out: 0.340>>0.361\n",
            "(701/1200) ds_loss: 1.274 - gn_loss: 1.262 - true_out: 0.517 - fake_out: 0.368>>0.350\n",
            "(801/1200) ds_loss: 0.904 - gn_loss: 1.613 - true_out: 0.608 - fake_out: 0.275>>0.243\n",
            "(901/1200) ds_loss: 0.776 - gn_loss: 1.187 - true_out: 0.785 - fake_out: 0.378>>0.341\n",
            "(1001/1200) ds_loss: 1.302 - gn_loss: 0.826 - true_out: 0.622 - fake_out: 0.510>>0.474\n",
            "(1101/1200) ds_loss: 1.222 - gn_loss: 1.468 - true_out: 0.503 - fake_out: 0.333>>0.277\n",
            "CPU times: user 8min 47s, sys: 4.71 s, total: 8min 52s\n",
            "Wall time: 8min 55s\n"
          ]
        }
      ]
    },
    {
      "cell_type": "code",
      "source": [],
      "metadata": {
        "id": "E2NP74p3Xyou"
      },
      "execution_count": null,
      "outputs": []
    }
  ]
}