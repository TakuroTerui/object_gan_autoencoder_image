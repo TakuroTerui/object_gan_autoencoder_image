{
  "nbformat": 4,
  "nbformat_minor": 0,
  "metadata": {
    "colab": {
      "provenance": [],
      "authorship_tag": "ABX9TyN7RgCETEiuBLeKGBaQRlwe",
      "include_colab_link": true
    },
    "kernelspec": {
      "name": "python3",
      "display_name": "Python 3"
    },
    "language_info": {
      "name": "python"
    },
    "gpuClass": "standard"
  },
  "cells": [
    {
      "cell_type": "markdown",
      "metadata": {
        "id": "view-in-github",
        "colab_type": "text"
      },
      "source": [
        "<a href=\"https://colab.research.google.com/github/TakuroTerui/object_gan_autoencoder_image/blob/master/%E5%A4%89%E5%88%86%E3%82%AA%E3%83%BC%E3%83%88%E3%82%A8%E3%83%B3%E3%82%B3%E3%83%BC%E3%83%80%E3%83%BC.ipynb\" target=\"_parent\"><img src=\"https://colab.research.google.com/assets/colab-badge.svg\" alt=\"Open In Colab\"/></a>"
      ]
    },
    {
      "cell_type": "code",
      "execution_count": 1,
      "metadata": {
        "colab": {
          "base_uri": "https://localhost:8080/"
        },
        "id": "IyC16bcQpHRl",
        "outputId": "e903e60a-9361-4f70-dca6-d51ab6818f69"
      },
      "outputs": [
        {
          "output_type": "stream",
          "name": "stdout",
          "text": [
            "Downloading http://yann.lecun.com/exdb/mnist/train-images-idx3-ubyte.gz\n",
            "Downloading http://yann.lecun.com/exdb/mnist/train-images-idx3-ubyte.gz to content/drive/MyDrive/Colab Notebooks/Autoencoder/VAE_PyTorch/mnist_root/MNIST/raw/train-images-idx3-ubyte.gz\n"
          ]
        },
        {
          "output_type": "stream",
          "name": "stderr",
          "text": [
            "100%|██████████| 9912422/9912422 [00:00<00:00, 129392375.84it/s]\n"
          ]
        },
        {
          "output_type": "stream",
          "name": "stdout",
          "text": [
            "Extracting content/drive/MyDrive/Colab Notebooks/Autoencoder/VAE_PyTorch/mnist_root/MNIST/raw/train-images-idx3-ubyte.gz to content/drive/MyDrive/Colab Notebooks/Autoencoder/VAE_PyTorch/mnist_root/MNIST/raw\n",
            "\n",
            "Downloading http://yann.lecun.com/exdb/mnist/train-labels-idx1-ubyte.gz\n",
            "Downloading http://yann.lecun.com/exdb/mnist/train-labels-idx1-ubyte.gz to content/drive/MyDrive/Colab Notebooks/Autoencoder/VAE_PyTorch/mnist_root/MNIST/raw/train-labels-idx1-ubyte.gz\n"
          ]
        },
        {
          "output_type": "stream",
          "name": "stderr",
          "text": [
            "100%|██████████| 28881/28881 [00:00<00:00, 31578648.03it/s]\n"
          ]
        },
        {
          "output_type": "stream",
          "name": "stdout",
          "text": [
            "Extracting content/drive/MyDrive/Colab Notebooks/Autoencoder/VAE_PyTorch/mnist_root/MNIST/raw/train-labels-idx1-ubyte.gz to content/drive/MyDrive/Colab Notebooks/Autoencoder/VAE_PyTorch/mnist_root/MNIST/raw\n",
            "\n",
            "Downloading http://yann.lecun.com/exdb/mnist/t10k-images-idx3-ubyte.gz\n",
            "Downloading http://yann.lecun.com/exdb/mnist/t10k-images-idx3-ubyte.gz to content/drive/MyDrive/Colab Notebooks/Autoencoder/VAE_PyTorch/mnist_root/MNIST/raw/t10k-images-idx3-ubyte.gz\n"
          ]
        },
        {
          "output_type": "stream",
          "name": "stderr",
          "text": [
            "100%|██████████| 1648877/1648877 [00:00<00:00, 41958995.28it/s]"
          ]
        },
        {
          "output_type": "stream",
          "name": "stdout",
          "text": [
            "Extracting content/drive/MyDrive/Colab Notebooks/Autoencoder/VAE_PyTorch/mnist_root/MNIST/raw/t10k-images-idx3-ubyte.gz to content/drive/MyDrive/Colab Notebooks/Autoencoder/VAE_PyTorch/mnist_root/MNIST/raw\n"
          ]
        },
        {
          "output_type": "stream",
          "name": "stderr",
          "text": [
            "\n"
          ]
        },
        {
          "output_type": "stream",
          "name": "stdout",
          "text": [
            "\n",
            "Downloading http://yann.lecun.com/exdb/mnist/t10k-labels-idx1-ubyte.gz\n",
            "Downloading http://yann.lecun.com/exdb/mnist/t10k-labels-idx1-ubyte.gz to content/drive/MyDrive/Colab Notebooks/Autoencoder/VAE_PyTorch/mnist_root/MNIST/raw/t10k-labels-idx1-ubyte.gz\n"
          ]
        },
        {
          "output_type": "stream",
          "name": "stderr",
          "text": [
            "100%|██████████| 4542/4542 [00:00<00:00, 9435625.94it/s]\n"
          ]
        },
        {
          "output_type": "stream",
          "name": "stdout",
          "text": [
            "Extracting content/drive/MyDrive/Colab Notebooks/Autoencoder/VAE_PyTorch/mnist_root/MNIST/raw/t10k-labels-idx1-ubyte.gz to content/drive/MyDrive/Colab Notebooks/Autoencoder/VAE_PyTorch/mnist_root/MNIST/raw\n",
            "\n"
          ]
        }
      ],
      "source": [
        "import torchvision\n",
        "import torchvision.transforms as transforms\n",
        "from torch.utils.data import DataLoader\n",
        "\n",
        "transform = transforms.Compose([\n",
        "    transforms.ToTensor(),\n",
        "    lambda x: x.view(-1)\n",
        "])\n",
        "\n",
        "mnist_train = torchvision.datasets.MNIST(\n",
        "    root='content/drive/MyDrive/Colab Notebooks/Autoencoder/VAE_PyTorch/mnist_root',\n",
        "    download=True,\n",
        "    train=True,\n",
        "    transform=transform\n",
        ")\n",
        "\n",
        "mnist_test = torchvision.datasets.MNIST(\n",
        "    root='content/drive/MyDrive/Colab Notebooks/Autoencoder/VAE_PyTorch/mnist_root',\n",
        "    download=True,\n",
        "    train=False,\n",
        "    transform=transform\n",
        ")\n",
        "\n",
        "train_dataloader = DataLoader(mnist_train, batch_size=64, shuffle=True)\n",
        "test_dataloader = DataLoader(mnist_test, batch_size=1, shuffle=False)"
      ]
    },
    {
      "cell_type": "code",
      "source": [
        "import torch\n",
        "\n",
        "device = torch.device('cuda' if torch.cuda.is_available() else 'cpu')\n",
        "print(device)"
      ],
      "metadata": {
        "colab": {
          "base_uri": "https://localhost:8080/"
        },
        "id": "LbJNaY8WqKAs",
        "outputId": "61156be2-b7b1-400b-aa5d-d119dd3963b4"
      },
      "execution_count": 3,
      "outputs": [
        {
          "output_type": "stream",
          "name": "stdout",
          "text": [
            "cpu\n"
          ]
        }
      ]
    },
    {
      "cell_type": "code",
      "source": [
        "import torch.nn.functional as F\n",
        "import torch.nn as nn\n",
        "\n",
        "class VariationalEncoder(nn.Module):\n",
        "    '''エンコーダー\n",
        "    Attributes:\n",
        "        device:使用するデバイス\n",
        "        l1:全結合層\n",
        "        l_mean:全結合層（平均値を出力する層）\n",
        "        l_var:全結合層（分散を出力する層）\n",
        "    '''\n",
        "    def __init__(self, device='cpu'):\n",
        "        super().__init__()\n",
        "        self.device = device\n",
        "        self.l1 = nn.Linear(784, 200)\n",
        "        self.l_mean = nn.Linear(200, 10)\n",
        "        self.l_var = nn.Linear(200, 10)\n",
        "\n",
        "    def forward(self, x):\n",
        "        h = self.l1(x)\n",
        "        h = torch.relu(h)\n",
        "        mean = self.l_mean(h)\n",
        "        var = self.l_var(h)\n",
        "        var = F.softplus(var)\n",
        "\n",
        "        return mean, var"
      ],
      "metadata": {
        "id": "Qt6G19egqU3S"
      },
      "execution_count": 4,
      "outputs": []
    },
    {
      "cell_type": "code",
      "source": [
        "class VariationalDecoder(nn.Module):\n",
        "    '''デコーダー\n",
        "    Attributes:\n",
        "        device:使用するデバイス\n",
        "        l1:全結合層(200)\n",
        "        l2:全結合層(784)\n",
        "    '''\n",
        "    def __init__(self, device='cpu'):\n",
        "        super().__init__()\n",
        "        self.device = device\n",
        "        self.l1 = nn.Linear(10, 200)\n",
        "        self.l2 = nn.Linear(200, 784)\n",
        "\n",
        "    def forward(self, x):\n",
        "        h = self.l1(x)\n",
        "        h = torch.relu(h)\n",
        "        h = self.l2(h)\n",
        "        y = torch.sigmoid(h)\n",
        "\n",
        "        return y"
      ],
      "metadata": {
        "id": "l6fMoBQ8ryaf"
      },
      "execution_count": 5,
      "outputs": []
    },
    {
      "cell_type": "code",
      "source": [
        "class VAE(nn.Module):\n",
        "    '''変分オートエンコーダー\n",
        "    Attributes:\n",
        "        device:使用するデバイス\n",
        "        encode:エンコーダーのモデル\n",
        "        decode:デコーダーのモデル\n",
        "    '''\n",
        "    def __init__(self, device='cpu'):\n",
        "        '''deviceを設置し、エンコーダーとデコーダーのモデルを生成する\n",
        "        '''\n",
        "        super().__init__()\n",
        "        self.device = device\n",
        "        self.encoder = VariationalEncoder(device=device)\n",
        "        self.decoder = VariationalDecoder(device=device)\n",
        "    \n",
        "    def forward(self, x):\n",
        "        '''順伝播処理\n",
        "        '''\n",
        "        mean, var = self.encoder(x)\n",
        "        z = self.latent_variable(mean, var)\n",
        "        y = self.decoder(z)\n",
        "        return y, z\n",
        "    \n",
        "    def latent_variable(self, mean, var):\n",
        "        '''潜在変数を作成する\n",
        "        '''\n",
        "        # 平均0、分散1の標準正規分布からl_meanの出力値の数だけサンプリング\n",
        "        eps = torch.randn(mean.size()).to(self.device)\n",
        "        z = mean + torch.sqrt(var) * eps\n",
        "        return z\n",
        "    \n",
        "    def lower_bound(self, x):\n",
        "        '''損失関数\n",
        "        再構築ロスと潜在ロスの合計を求める\n",
        "        '''\n",
        "        mean, var = self.encoder(x)\n",
        "        z = self.latent_variable(mean, var)\n",
        "        y = self.decoder(z)\n",
        "        # 再構築ロス\n",
        "        reconst_loss = - torch.mean(\n",
        "            torch.sum(x * torch.log(y) + (1 - x) * torch.log(1 -y), dim=1))\n",
        "        # 潜在ロス\n",
        "        latent_loss = - 1/2 * torch.mean(\n",
        "            torch.sum(1 + torch.log(var) - mean ** 2 - var, dim=1))\n",
        "        # 再構築ロス＋潜在ロス\n",
        "        loss = reconst_loss + latent_loss\n",
        "        return loss"
      ],
      "metadata": {
        "id": "ftsU5Xv2vi5m"
      },
      "execution_count": 7,
      "outputs": []
    },
    {
      "cell_type": "code",
      "source": [
        "import torch.optim as optimizers\n",
        "\n",
        "# 変分オートエンコーダーを生成\n",
        "model = VAE(device=device).to(device)\n",
        "# VAEの損失関数を設定\n",
        "criterion = model.lower_bound\n",
        "# オプティマイザーをAdamに設定\n",
        "optimizer = optimizers.Adam(model.parameters())\n",
        "\n",
        "print(model)"
      ],
      "metadata": {
        "colab": {
          "base_uri": "https://localhost:8080/"
        },
        "id": "HfU5u7h7y5Zi",
        "outputId": "c0e35727-102a-4fe2-b7b4-b601fb6f8ef3"
      },
      "execution_count": 8,
      "outputs": [
        {
          "output_type": "stream",
          "name": "stdout",
          "text": [
            "VAE(\n",
            "  (encoder): VariationalEncoder(\n",
            "    (l1): Linear(in_features=784, out_features=200, bias=True)\n",
            "    (l_mean): Linear(in_features=200, out_features=10, bias=True)\n",
            "    (l_var): Linear(in_features=200, out_features=10, bias=True)\n",
            "  )\n",
            "  (decoder): VariationalDecoder(\n",
            "    (l1): Linear(in_features=10, out_features=200, bias=True)\n",
            "    (l2): Linear(in_features=200, out_features=784, bias=True)\n",
            "  )\n",
            ")\n"
          ]
        }
      ]
    },
    {
      "cell_type": "code",
      "source": [
        "%%time\n",
        "\n",
        "epochs = 10\n",
        "for epoch in range(epochs):\n",
        "    train_loss = 0.\n",
        "    for (x, _) in train_dataloader:\n",
        "        x = x.to(device)\n",
        "        model.train()\n",
        "        loss = criterion(x)\n",
        "        optimizer.zero_grad()\n",
        "        loss.backward()\n",
        "        optimizer.step()\n",
        "        train_loss += loss.item()\n",
        "    train_loss /= len(train_dataloader)\n",
        "    print('Epoch({}) -- Loss: {:.3f}'.format(epoch+1, train_loss))"
      ],
      "metadata": {
        "colab": {
          "base_uri": "https://localhost:8080/"
        },
        "id": "s4AGn2zc1qJC",
        "outputId": "4f1261a1-13d8-4af1-ef05-dba7b14fef34"
      },
      "execution_count": 9,
      "outputs": [
        {
          "output_type": "stream",
          "name": "stdout",
          "text": [
            "Epoch(1) -- Loss: 155.947\n",
            "Epoch(2) -- Loss: 124.850\n",
            "Epoch(3) -- Loss: 120.176\n",
            "Epoch(4) -- Loss: 117.823\n",
            "Epoch(5) -- Loss: 116.270\n",
            "Epoch(6) -- Loss: 115.220\n",
            "Epoch(7) -- Loss: 114.353\n",
            "Epoch(8) -- Loss: 113.683\n",
            "Epoch(9) -- Loss: 113.096\n",
            "Epoch(10) -- Loss: 112.650\n",
            "CPU times: user 3min 3s, sys: 366 ms, total: 3min 3s\n",
            "Wall time: 3min 6s\n"
          ]
        }
      ]
    },
    {
      "cell_type": "code",
      "source": [
        "import matplotlib.pyplot as plt\n",
        "%matplotlib inline\n",
        "\n",
        "model.eval()\n",
        "fig = plt.figure(figsize=(15, 6))\n",
        "for x, t in test_dataloader:\n",
        "    for i, img in enumerate(x.view(-1, 28, 28).detach().numpy()[:10]):\n",
        "        ax = fig.add_subplot(2, 10, i+1, xticks=[], yticks=[])\n",
        "        ax.imshow(img, 'gray')\n",
        "    x = x.to(device)\n",
        "\n",
        "    y, z = model(x)\n",
        "    y = y.view(-1, 28, 28)\n",
        "    for i, img in enumerate(y.cpu().detach().numpy()[:10]):\n",
        "        ax = fig.add_subplot(3, 10, i+11, xticks=[], yticks=[])\n",
        "        ax.imshow(img, 'gray')\n",
        "    break"
      ],
      "metadata": {
        "colab": {
          "base_uri": "https://localhost:8080/",
          "height": 261
        },
        "id": "C1I3n77k2Tt0",
        "outputId": "ad26bdfe-6b60-4a00-b60c-ed3a1ef60bce"
      },
      "execution_count": 13,
      "outputs": [
        {
          "output_type": "display_data",
          "data": {
            "text/plain": [
              "<Figure size 1500x600 with 2 Axes>"
            ],
            "image/png": "[encoded data removed]"
          },
          "metadata": {}
        }
      ]
    },
    {
      "cell_type": "code",
      "source": [
        "batch_size = 10\n",
        "z = torch.randn(batch_size, 10, device=device)\n",
        "model.eval()\n",
        "images = model.decoder(z)\n",
        "\n",
        "images = images.view(-1, 28, 28)\n",
        "images = images.detach().cpu().numpy()\n",
        "\n",
        "for i, image in enumerate(images):\n",
        "    plt.subplot(2, 5, i+1)\n",
        "    plt.imshow(image, cmap='binary_r')\n",
        "    plt.axis('off')\n",
        "plt.tight_layout()\n",
        "plt.show()"
      ],
      "metadata": {
        "colab": {
          "base_uri": "https://localhost:8080/",
          "height": 338
        },
        "id": "yN_yTNWs4ben",
        "outputId": "59f69323-5be9-483c-87dc-1aca1b2443bb"
      },
      "execution_count": 15,
      "outputs": [
        {
          "output_type": "display_data",
          "data": {
            "text/plain": [
              "<Figure size 640x480 with 10 Axes>"
            ],
            "image/png": "[encoded data removed]"
          },
          "metadata": {}
        }
      ]
    }
  ]
}