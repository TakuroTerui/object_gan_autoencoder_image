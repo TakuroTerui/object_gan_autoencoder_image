{
  "nbformat": 4,
  "nbformat_minor": 0,
  "metadata": {
    "colab": {
      "provenance": [],
      "authorship_tag": "ABX9TyM0m9BN2Z2W8zUw3JiRuwMX",
      "include_colab_link": true
    },
    "kernelspec": {
      "name": "python3",
      "display_name": "Python 3"
    },
    "language_info": {
      "name": "python"
    },
    "accelerator": "GPU",
    "gpuClass": "standard"
  },
  "cells": [
    {
      "cell_type": "markdown",
      "metadata": {
        "id": "view-in-github",
        "colab_type": "text"
      },
      "source": [
        "<a href=\"https://colab.research.google.com/github/TakuroTerui/object_gan_autoencoder_image/blob/master/%E3%82%AA%E3%83%BC%E3%83%88%E3%82%A8%E3%83%B3%E3%82%B3%E3%83%BC%E3%83%80%E3%83%BC.ipynb\" target=\"_parent\"><img src=\"https://colab.research.google.com/assets/colab-badge.svg\" alt=\"Open In Colab\"/></a>"
      ]
    },
    {
      "cell_type": "code",
      "execution_count": 1,
      "metadata": {
        "id": "DOhgkOqlcbcj"
      },
      "outputs": [],
      "source": [
        "import torchvision\n",
        "import torchvision.transforms as transforms\n",
        "from torch.utils.data import DataLoader"
      ]
    },
    {
      "cell_type": "code",
      "source": [
        "transform = transforms.Compose([\n",
        "    transforms.ToTensor(),\n",
        "    lambda x: x.view(-1) # データの形状を(28, 28)から(784,)に変換\n",
        "])\n",
        "\n",
        "mnist_train = torchvision.datasets.MNIST(\n",
        "    root='/content/drive/MyDrive/Colab Notebooks/Autoencoder/Autoencoder_PyTorch/mnist_root',\n",
        "    download=True,\n",
        "    train=True,\n",
        "    transform=transform\n",
        ")\n",
        "\n",
        "mnist_test = torchvision.datasets.MNIST(\n",
        "    root='/content/drive/MyDrive/Colab Notebooks/Autoencoder/Autoencoder_PyTorch/mnist_root',\n",
        "    download=True,\n",
        "    train=False,\n",
        "    transform=transform\n",
        ")\n",
        "\n",
        "train_dataloader = DataLoader(mnist_train, batch_size=124, shuffle=True)\n",
        "test_dataloader = DataLoader(mnist_test, batch_size=1, shuffle=False)"
      ],
      "metadata": {
        "colab": {
          "base_uri": "https://localhost:8080/"
        },
        "id": "ajGdZm7ze1_a",
        "outputId": "bfee30b9-8222-4707-bcfd-3d31c71409df"
      },
      "execution_count": 2,
      "outputs": [
        {
          "output_type": "stream",
          "name": "stdout",
          "text": [
            "Downloading http://yann.lecun.com/exdb/mnist/train-images-idx3-ubyte.gz\n",
            "Downloading http://yann.lecun.com/exdb/mnist/train-images-idx3-ubyte.gz to /content/drive/MyDrive/Colab Notebooks/Autoencoder/Autoencoder_PyTorch/mnist_root/MNIST/raw/train-images-idx3-ubyte.gz\n"
          ]
        },
        {
          "output_type": "stream",
          "name": "stderr",
          "text": [
            "100%|██████████| 9912422/9912422 [00:00<00:00, 370503780.67it/s]"
          ]
        },
        {
          "output_type": "stream",
          "name": "stdout",
          "text": [
            "Extracting /content/drive/MyDrive/Colab Notebooks/Autoencoder/Autoencoder_PyTorch/mnist_root/MNIST/raw/train-images-idx3-ubyte.gz to /content/drive/MyDrive/Colab Notebooks/Autoencoder/Autoencoder_PyTorch/mnist_root/MNIST/raw\n"
          ]
        },
        {
          "output_type": "stream",
          "name": "stderr",
          "text": [
            "\n"
          ]
        },
        {
          "output_type": "stream",
          "name": "stdout",
          "text": [
            "\n",
            "Downloading http://yann.lecun.com/exdb/mnist/train-labels-idx1-ubyte.gz\n",
            "Downloading http://yann.lecun.com/exdb/mnist/train-labels-idx1-ubyte.gz to /content/drive/MyDrive/Colab Notebooks/Autoencoder/Autoencoder_PyTorch/mnist_root/MNIST/raw/train-labels-idx1-ubyte.gz\n"
          ]
        },
        {
          "output_type": "stream",
          "name": "stderr",
          "text": [
            "100%|██████████| 28881/28881 [00:00<00:00, 122980399.82it/s]"
          ]
        },
        {
          "output_type": "stream",
          "name": "stdout",
          "text": [
            "Extracting /content/drive/MyDrive/Colab Notebooks/Autoencoder/Autoencoder_PyTorch/mnist_root/MNIST/raw/train-labels-idx1-ubyte.gz to /content/drive/MyDrive/Colab Notebooks/Autoencoder/Autoencoder_PyTorch/mnist_root/MNIST/raw\n",
            "\n",
            "Downloading http://yann.lecun.com/exdb/mnist/t10k-images-idx3-ubyte.gz\n"
          ]
        },
        {
          "output_type": "stream",
          "name": "stderr",
          "text": [
            "\n"
          ]
        },
        {
          "output_type": "stream",
          "name": "stdout",
          "text": [
            "Downloading http://yann.lecun.com/exdb/mnist/t10k-images-idx3-ubyte.gz to /content/drive/MyDrive/Colab Notebooks/Autoencoder/Autoencoder_PyTorch/mnist_root/MNIST/raw/t10k-images-idx3-ubyte.gz\n"
          ]
        },
        {
          "output_type": "stream",
          "name": "stderr",
          "text": [
            "100%|██████████| 1648877/1648877 [00:00<00:00, 106891675.37it/s]"
          ]
        },
        {
          "output_type": "stream",
          "name": "stdout",
          "text": [
            "Extracting /content/drive/MyDrive/Colab Notebooks/Autoencoder/Autoencoder_PyTorch/mnist_root/MNIST/raw/t10k-images-idx3-ubyte.gz to /content/drive/MyDrive/Colab Notebooks/Autoencoder/Autoencoder_PyTorch/mnist_root/MNIST/raw\n",
            "\n",
            "Downloading http://yann.lecun.com/exdb/mnist/t10k-labels-idx1-ubyte.gz\n",
            "Downloading http://yann.lecun.com/exdb/mnist/t10k-labels-idx1-ubyte.gz to /content/drive/MyDrive/Colab Notebooks/Autoencoder/Autoencoder_PyTorch/mnist_root/MNIST/raw/t10k-labels-idx1-ubyte.gz\n"
          ]
        },
        {
          "output_type": "stream",
          "name": "stderr",
          "text": [
            "\n",
            "100%|██████████| 4542/4542 [00:00<00:00, 3444941.91it/s]"
          ]
        },
        {
          "output_type": "stream",
          "name": "stdout",
          "text": [
            "Extracting /content/drive/MyDrive/Colab Notebooks/Autoencoder/Autoencoder_PyTorch/mnist_root/MNIST/raw/t10k-labels-idx1-ubyte.gz to /content/drive/MyDrive/Colab Notebooks/Autoencoder/Autoencoder_PyTorch/mnist_root/MNIST/raw\n",
            "\n"
          ]
        },
        {
          "output_type": "stream",
          "name": "stderr",
          "text": [
            "\n"
          ]
        }
      ]
    },
    {
      "cell_type": "code",
      "source": [
        "import torch\n",
        "\n",
        "device = torch.device('cuda' if torch.cuda.is_available() else 'cpu')\n",
        "print(device)"
      ],
      "metadata": {
        "colab": {
          "base_uri": "https://localhost:8080/"
        },
        "id": "QP70RlDBgMbE",
        "outputId": "2e5619fa-027a-4797-f54a-3677aa8a6677"
      },
      "execution_count": 4,
      "outputs": [
        {
          "output_type": "stream",
          "name": "stdout",
          "text": [
            "cuda\n"
          ]
        }
      ]
    },
    {
      "cell_type": "code",
      "source": [
        "import torch.nn as nn\n",
        "\n",
        "class Autoencoder(nn.Module):\n",
        "    def __init__(self, device='cpu'):\n",
        "        super().__init__()\n",
        "        self.device = device\n",
        "        self.l1 = nn.Linear(784, 200)\n",
        "        self.l2 = nn.Linear(200, 784)\n",
        "    \n",
        "    def forward(self, x):\n",
        "        h = self.l1(x)\n",
        "        h = torch.relu(h)\n",
        "\n",
        "        h = self.l2(h)\n",
        "        y = torch.sigmoid(h)\n",
        "        return y"
      ],
      "metadata": {
        "id": "r5o9EG0ugrAS"
      },
      "execution_count": 5,
      "outputs": []
    },
    {
      "cell_type": "code",
      "source": [
        "import torch.optim as optimizers\n",
        "\n",
        "model = Autoencoder(device=device).to(device)\n",
        "criterion = nn.BCELoss()\n",
        "optimizer = optimizers.Adam(model.parameters())"
      ],
      "metadata": {
        "id": "r9_aUh1FlO8u"
      },
      "execution_count": 6,
      "outputs": []
    },
    {
      "cell_type": "code",
      "source": [
        "epochs = 10\n",
        "\n",
        "for epoch in range(epochs):\n",
        "    train_loss = 0.\n",
        "    for (x, _) in train_dataloader:\n",
        "        x = x.to(device)\n",
        "        model.train()\n",
        "        preds = model(x)\n",
        "        loss = criterion(preds, x)\n",
        "        optimizer.zero_grad()\n",
        "        loss.backward()\n",
        "        optimizer.step()\n",
        "\n",
        "        train_loss += loss.item()\n",
        "    \n",
        "    train_loss /= len(train_dataloader)\n",
        "    print('Epoch({}) -- Loss:{:.3f}'.format(epoch+1, train_loss))"
      ],
      "metadata": {
        "colab": {
          "base_uri": "https://localhost:8080/"
        },
        "id": "I9ySlHZ9lhv0",
        "outputId": "94648070-5aa9-4ac0-fe0d-2b7dd080c30a"
      },
      "execution_count": 7,
      "outputs": [
        {
          "output_type": "stream",
          "name": "stdout",
          "text": [
            "Epoch(1) -- Loss:0.165\n",
            "Epoch(2) -- Loss:0.091\n",
            "Epoch(3) -- Loss:0.077\n",
            "Epoch(4) -- Loss:0.072\n",
            "Epoch(5) -- Loss:0.070\n",
            "Epoch(6) -- Loss:0.069\n",
            "Epoch(7) -- Loss:0.068\n",
            "Epoch(8) -- Loss:0.067\n",
            "Epoch(9) -- Loss:0.067\n",
            "Epoch(10) -- Loss:0.066\n"
          ]
        }
      ]
    },
    {
      "cell_type": "code",
      "source": [
        "import matplotlib.pyplot as plt\n",
        "%matplotlib inline\n",
        "\n",
        "x, _ = next(iter(test_dataloader))\n",
        "x = x.to(device)\n",
        "\n",
        "model.eval()\n",
        "x_rec = model(x)\n",
        "\n",
        "for i, image in enumerate([x, x_rec]):\n",
        "    image = image.view(28, 28).detach().cpu().numpy()\n",
        "    plt.subplot(1, 2, i+1)\n",
        "    plt.imshow(image, cmap='binary_r')\n",
        "    plt.axis('off')\n",
        "plt.show()"
      ],
      "metadata": {
        "colab": {
          "base_uri": "https://localhost:8080/",
          "height": 262
        },
        "id": "rBCJG_kOmV5k",
        "outputId": "49418013-b633-482a-c277-6b634e6b4857"
      },
      "execution_count": 10,
      "outputs": [
        {
          "output_type": "display_data",
          "data": {
            "text/plain": [
              "<Figure size 640x480 with 2 Axes>"
            ],
            "image/png": "[encoded data removed]"
          },
          "metadata": {}
        }
      ]
    }
  ]
}