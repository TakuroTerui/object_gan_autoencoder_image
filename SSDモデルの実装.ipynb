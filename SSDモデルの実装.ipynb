{
  "nbformat": 4,
  "nbformat_minor": 0,
  "metadata": {
    "colab": {
      "name": "SSDモデルの実装.ipynb",
      "provenance": [],
      "authorship_tag": "ABX9TyOACrAoMKXHVue3DEiPgNEe"
    },
    "kernelspec": {
      "name": "python3",
      "display_name": "Python 3"
    },
    "language_info": {
      "name": "python"
    }
  },
  "cells": [
    {
      "cell_type": "markdown",
      "source": [
        "### vggネットワークの実装"
      ],
      "metadata": {
        "id": "BVx6XMUeZa0c"
      }
    },
    {
      "cell_type": "code",
      "execution_count": 7,
      "metadata": {
        "id": "mzVCX4ykVgHC"
      },
      "outputs": [],
      "source": [
        "'''\n",
        "1. vggネットワークを生成する関数の定義 \n",
        "'''\n",
        "import torch.nn as nn\n",
        "\n",
        "def make_vgg():\n",
        "    '''\n",
        "    Returns:\n",
        "        (nn.ModuleList): vggのモジュール（部品）のリスト\n",
        "    '''\n",
        "    layers = []\n",
        "    in_channels = 3\n",
        "\n",
        "    # vggに配置する畳み込み層のフィルター数（チャネル数に相当）\n",
        "    # 'M', 'MC'にプーリング層を示す\n",
        "    cfg = [\n",
        "        64, 64, 'M',\n",
        "        128, 128, 'M',\n",
        "        256, 256, 256, 'MC',\n",
        "        512, 512, 512, 'M',\n",
        "        512, 512, 512,\n",
        "    ]\n",
        "    # vgg1~vgg5の畳み込み層までを生成\n",
        "    for v in cfg:\n",
        "        # vgg1, vgg2, vgg4のプーリング層\n",
        "        if v == 'M':\n",
        "            layers += [nn.MaxPool2d(kernel_size=2, stride=2)]\n",
        "        # vgg3のプーリング層\n",
        "        elif v == 'MC':\n",
        "            # vgg3のプーリングで（75、75）の特徴マップを半分のサイズにする際に、\n",
        "            # ceil_modeをTrueにすることで75/2=37.5を切り上げて38にする\n",
        "            # この結果vgg3のプーリング層から出力される特徴マップのサイズは\n",
        "            # (38, 38)になる\n",
        "            layers += [nn.MaxPool2d(kernel_size=2, stride=2, ceil_mode=True)]\n",
        "        \n",
        "        # vgg1~vgg5の畳み込み層\n",
        "        else:\n",
        "            conv2d = nn.Conv2d(in_channels, v, kernel_size=3, padding=1)\n",
        "\n",
        "            # 畳み込み層に活性化関数ReLuをセットしてlayersに追加\n",
        "            # inplace=TrueにするとReLUへの入力値は保存されない\n",
        "            layers += [conv2d, nn.ReLU(inplace=True)]\n",
        "            # チャネル数を出力時のチャネル数（フィルター数）に置き換える\n",
        "            in_channels = v\n",
        "        \n",
        "    # vgg5のプーリング層\n",
        "    pool5 = nn.MaxPool2d(kernel_size=3, stride=1, padding=1)\n",
        "\n",
        "    # vgg6の畳み込み層1\n",
        "    conv6 = nn.Conv2d(512, 1024, kernel_size=3, padding=6, dilation=6)\n",
        "\n",
        "    # vgg6の畳み込み層2\n",
        "    conv7 = nn.Conv2d(1024, 1024, kernel_size=1)\n",
        "    # vgg5のプーリング層、vgg6の畳み込み層1と畳み込み層2をlayeresに追加\n",
        "    layers += [\n",
        "        pool5,\n",
        "        conv6,\n",
        "        nn.ReLU(inplace=True),\n",
        "        conv7,\n",
        "        nn.ReLU(inplace=True),\n",
        "    ]\n",
        "\n",
        "    # リストlayersをnn.ModuleListに格納してReturnする\n",
        "    return nn.ModuleList(layers)"
      ]
    },
    {
      "cell_type": "code",
      "source": [
        "vgg = make_vgg()\n",
        "print(vgg)"
      ],
      "metadata": {
        "colab": {
          "base_uri": "https://localhost:8080/"
        },
        "id": "JM3rnnSQYnVv",
        "outputId": "237d1377-8d11-42ca-ea4e-4e4d1535cf05"
      },
      "execution_count": 8,
      "outputs": [
        {
          "output_type": "stream",
          "name": "stdout",
          "text": [
            "ModuleList(\n",
            "  (0): Conv2d(3, 64, kernel_size=(3, 3), stride=(1, 1), padding=(1, 1))\n",
            "  (1): ReLU(inplace=True)\n",
            "  (2): Conv2d(64, 64, kernel_size=(3, 3), stride=(1, 1), padding=(1, 1))\n",
            "  (3): ReLU(inplace=True)\n",
            "  (4): MaxPool2d(kernel_size=2, stride=2, padding=0, dilation=1, ceil_mode=False)\n",
            "  (5): Conv2d(64, 128, kernel_size=(3, 3), stride=(1, 1), padding=(1, 1))\n",
            "  (6): ReLU(inplace=True)\n",
            "  (7): Conv2d(128, 128, kernel_size=(3, 3), stride=(1, 1), padding=(1, 1))\n",
            "  (8): ReLU(inplace=True)\n",
            "  (9): MaxPool2d(kernel_size=2, stride=2, padding=0, dilation=1, ceil_mode=False)\n",
            "  (10): Conv2d(128, 256, kernel_size=(3, 3), stride=(1, 1), padding=(1, 1))\n",
            "  (11): ReLU(inplace=True)\n",
            "  (12): Conv2d(256, 256, kernel_size=(3, 3), stride=(1, 1), padding=(1, 1))\n",
            "  (13): ReLU(inplace=True)\n",
            "  (14): Conv2d(256, 256, kernel_size=(3, 3), stride=(1, 1), padding=(1, 1))\n",
            "  (15): ReLU(inplace=True)\n",
            "  (16): MaxPool2d(kernel_size=2, stride=2, padding=0, dilation=1, ceil_mode=True)\n",
            "  (17): Conv2d(256, 512, kernel_size=(3, 3), stride=(1, 1), padding=(1, 1))\n",
            "  (18): ReLU(inplace=True)\n",
            "  (19): Conv2d(512, 512, kernel_size=(3, 3), stride=(1, 1), padding=(1, 1))\n",
            "  (20): ReLU(inplace=True)\n",
            "  (21): Conv2d(512, 512, kernel_size=(3, 3), stride=(1, 1), padding=(1, 1))\n",
            "  (22): ReLU(inplace=True)\n",
            "  (23): MaxPool2d(kernel_size=2, stride=2, padding=0, dilation=1, ceil_mode=False)\n",
            "  (24): Conv2d(512, 512, kernel_size=(3, 3), stride=(1, 1), padding=(1, 1))\n",
            "  (25): ReLU(inplace=True)\n",
            "  (26): Conv2d(512, 512, kernel_size=(3, 3), stride=(1, 1), padding=(1, 1))\n",
            "  (27): ReLU(inplace=True)\n",
            "  (28): Conv2d(512, 512, kernel_size=(3, 3), stride=(1, 1), padding=(1, 1))\n",
            "  (29): ReLU(inplace=True)\n",
            "  (30): MaxPool2d(kernel_size=3, stride=1, padding=1, dilation=1, ceil_mode=False)\n",
            "  (31): Conv2d(512, 1024, kernel_size=(3, 3), stride=(1, 1), padding=(6, 6), dilation=(6, 6))\n",
            "  (32): ReLU(inplace=True)\n",
            "  (33): Conv2d(1024, 1024, kernel_size=(1, 1), stride=(1, 1))\n",
            "  (34): ReLU(inplace=True)\n",
            ")\n"
          ]
        }
      ]
    },
    {
      "cell_type": "markdown",
      "source": [
        "### extrasネットワークの実装"
      ],
      "metadata": {
        "id": "uzPkTvNOZZgD"
      }
    },
    {
      "cell_type": "code",
      "source": [
        "'''\n",
        "2. extrasネットワークを生成する関数の定義\n",
        "'''\n",
        "def make_extras():\n",
        "    '''\n",
        "    Returns:\n",
        "        (nn.ModuleList): extrasのモジュール（部品）のリスト\n",
        "    '''\n",
        "    layers = []\n",
        "    in_channels = 1024\n",
        "\n",
        "    # vggに配置する畳み込み層のフィルター数（チャネル数に相当）\n",
        "    cfg = [\n",
        "        256, 512,\n",
        "        128, 256,\n",
        "        128, 256,\n",
        "        128, 256\n",
        "    ]\n",
        "\n",
        "    # extras1\n",
        "    # 出力の形状：(バッチサイズ、512、10、10)\n",
        "    layers += [nn.Conv2d(in_channels, cfg[0], kernel_size=(1))]\n",
        "    layers += [nn.Conv2d(cfg[0], cfg[1], kernel_size=(3), stride=2, padding=1)]\n",
        "\n",
        "    # extras2\n",
        "    # 出力の形状：(バッチサイズ、256、5、5)\n",
        "    layers += [nn.Conv2d(cfg[1], cfg[2], kernel_size=(1))]\n",
        "    layers += [nn.Conv2d(cfg[2], cfg[3], kernel_size=(3), stride=2, padding=1)]\n",
        "\n",
        "    # extras3\n",
        "    # 出力の形状：(バッチサイズ、256、3、3)\n",
        "    layers += [nn.Conv2d(cfg[3], cfg[4], kernel_size=(1))]\n",
        "    layers += [nn.Conv2d(cfg[4], cfg[5], kernel_size=(3))]\n",
        "\n",
        "    # extras4\n",
        "    # 出力の形状：(バッチサイズ、256、1、1)\n",
        "    layers += [nn.Conv2d(cfg[5], cfg[6], kernel_size=(1))]\n",
        "    layers += [nn.Conv2d(cfg[6], cfg[7], kernel_size=(3))]\n",
        "\n",
        "    # リストlayersをnn.ModuleListの格納してReturnする\n",
        "    return nn.ModuleList(layers)"
      ],
      "metadata": {
        "id": "eh4TK4yHYvII"
      },
      "execution_count": 11,
      "outputs": []
    },
    {
      "cell_type": "code",
      "source": [
        "extras = make_extras()\n",
        "print(extras)"
      ],
      "metadata": {
        "colab": {
          "base_uri": "https://localhost:8080/"
        },
        "id": "tyzH4doFcwqr",
        "outputId": "72c74f39-afe5-4680-fdf7-d35d6907dc13"
      },
      "execution_count": 12,
      "outputs": [
        {
          "output_type": "stream",
          "name": "stdout",
          "text": [
            "ModuleList(\n",
            "  (0): Conv2d(1024, 256, kernel_size=(1, 1), stride=(1, 1))\n",
            "  (1): Conv2d(256, 512, kernel_size=(3, 3), stride=(2, 2), padding=(1, 1))\n",
            "  (2): Conv2d(512, 128, kernel_size=(1, 1), stride=(1, 1))\n",
            "  (3): Conv2d(128, 256, kernel_size=(3, 3), stride=(2, 2), padding=(1, 1))\n",
            "  (4): Conv2d(256, 128, kernel_size=(1, 1), stride=(1, 1))\n",
            "  (5): Conv2d(128, 256, kernel_size=(3, 3), stride=(1, 1))\n",
            "  (6): Conv2d(256, 128, kernel_size=(1, 1), stride=(1, 1))\n",
            "  (7): Conv2d(128, 256, kernel_size=(3, 3), stride=(1, 1))\n",
            ")\n"
          ]
        }
      ]
    },
    {
      "cell_type": "markdown",
      "source": [
        "### locネットワークの実装"
      ],
      "metadata": {
        "id": "FY7tce2mc0Yl"
      }
    },
    {
      "cell_type": "code",
      "source": [
        "'''\n",
        "3. locネットワークを生成する関数の定義\n",
        "'''\n",
        "def make_loc(dbox_num=[4, 6, 6, 6, 4, 4]):\n",
        "    '''\n",
        "    デフォルトボックスのオフセットを出力するlocネットワークを生成\n",
        "\n",
        "    Parameters:\n",
        "        dbox_num(intのリスト):\n",
        "            out1~out6それぞれに用意されるデフォルトボックスの数\n",
        "    Returns:\n",
        "        (nn.ModuleList): locのモジュール（部品）のリスト\n",
        "    '''\n",
        "    # ネットワークのモジュールを格納するリスト\n",
        "    loc_layers = []\n",
        "    # vgg4の畳み込み層3からの出力にL2Normでの正規化の処理を適用した\n",
        "    # out1に対する畳み込み層1\n",
        "    loc_layers += [nn.Conv2d(512, dbox_num[0] * 4, kernel_size=3, padding=1)]\n",
        "\n",
        "    # vgg6からの最終出力out2に対する畳み込み層2\n",
        "    loc_layers += [nn.Conv2d(1024, dbox_num[1] * 4, kernel_size=3, padding=1)]\n",
        "\n",
        "    # extrasのext1からの出力out3に対する畳み込み層3\n",
        "    loc_layers += [nn.Conv2d(512, dbox_num[2] * 4, kernel_size=3, padding=1)]\n",
        "\n",
        "    # extrasのext2からの出力out4に対する畳み込み層4\n",
        "    loc_layers += [nn.Conv2d(256, dbox_num[3] * 4, kernel_size=3, padding=1)]\n",
        "\n",
        "    # extrasのext3からの出力out5に対する畳み込み層5\n",
        "    loc_layers += [nn.Conv2d(256, dbox_num[4] * 4, kernel_size=3, padding=1)]\n",
        "\n",
        "    # extrasのext4からの出力out5に対する畳み込み層6\n",
        "    loc_layers += [nn.Conv2d(256, dbox_num[5] * 4, kernel_size=3, padding=1)]\n",
        "\n",
        "    # リストloc_layersをnn.ModuleListに格納してReturnする\n",
        "    return nn.ModuleList(loc_layers)"
      ],
      "metadata": {
        "id": "I8R3nKZLdOi6"
      },
      "execution_count": 13,
      "outputs": []
    },
    {
      "cell_type": "code",
      "source": [
        "loc = make_loc()\n",
        "print(loc)"
      ],
      "metadata": {
        "colab": {
          "base_uri": "https://localhost:8080/"
        },
        "id": "oU1l-fIrfCyx",
        "outputId": "15b10246-d436-47f5-c4c6-60c9a327785c"
      },
      "execution_count": 14,
      "outputs": [
        {
          "output_type": "stream",
          "name": "stdout",
          "text": [
            "ModuleList(\n",
            "  (0): Conv2d(512, 16, kernel_size=(3, 3), stride=(1, 1), padding=(1, 1))\n",
            "  (1): Conv2d(1024, 24, kernel_size=(3, 3), stride=(1, 1), padding=(1, 1))\n",
            "  (2): Conv2d(512, 24, kernel_size=(3, 3), stride=(1, 1), padding=(1, 1))\n",
            "  (3): Conv2d(256, 24, kernel_size=(3, 3), stride=(1, 1), padding=(1, 1))\n",
            "  (4): Conv2d(256, 16, kernel_size=(3, 3), stride=(1, 1), padding=(1, 1))\n",
            "  (5): Conv2d(256, 16, kernel_size=(3, 3), stride=(1, 1), padding=(1, 1))\n",
            ")\n"
          ]
        }
      ]
    },
    {
      "cell_type": "markdown",
      "source": [
        "### confネットワーク"
      ],
      "metadata": {
        "id": "PtVr480QfF-L"
      }
    },
    {
      "cell_type": "code",
      "source": [
        "'''\n",
        "4. confネットワークを生成する関数の定義\n",
        "'''\n",
        "def make_conf(classes_num=21, dbox_num=[4, 6, 6, 6, 4, 4]):\n",
        "    '''\n",
        "    デフォルトボックスに対する各クラスの確率を出力するネットワークを生成\n",
        "\n",
        "    Parameters:\n",
        "        class_num(int): クラスの数\n",
        "        dbox_num(intのリスト):\n",
        "            out1~out6それぞれに用意されるデフォルトボックスの数\n",
        "\n",
        "    Returns:\n",
        "        (nn.ModuleList): confのモジュール（部品）のリスト\n",
        "    '''\n",
        "    # ネットワークのモジュールを格納するリスト\n",
        "    conf_layers = []\n",
        "\n",
        "    # vgg4の畳み込み層3からの出力にL2Normでの正規化の処理を適用した\n",
        "    # out1に対する畳み込み層1\n",
        "    conf_layers += [nn.Conv2d(512, dbox_num[0] * classes_num, kernel_size=3, padding=1)]\n",
        "\n",
        "    # vgg6からの最終出力out2に対する畳み込み層2\n",
        "    conf_layers += [nn.Conv2d(1024, dbox_num[1] * classes_num, kernel_size=3, padding=1)]\n",
        "\n",
        "    # extrasのext1からの出力out3に対する畳み込み層3\n",
        "    conf_layers += [nn.Conv2d(512, dbox_num[2] * classes_num, kernel_size=3, padding=1)]\n",
        "\n",
        "    # extrasのext2からの出力out4に対する畳み込み層4\n",
        "    conf_layers += [nn.Conv2d(256, dbox_num[3] * classes_num, kernel_size=3, padding=1)]\n",
        "\n",
        "    # extrasのext3からの出力out5に対する畳み込み層5\n",
        "    conf_layers += [nn.Conv2d(256, dbox_num[4] * classes_num, kernel_size=3, padding=1)]\n",
        "\n",
        "    # extrasのext4からの出力out6に対する畳み込み層6\n",
        "    conf_layers += [nn.Conv2d(256, dbox_num[5] * classes_num, kernel_size=3, padding=1)]\n",
        "\n",
        "    # リストconf_layersをnn.ModuleListに格納してReturnする\n",
        "    return nn.ModuleList(conf_layers)"
      ],
      "metadata": {
        "id": "ulGgpn3afMFk"
      },
      "execution_count": 15,
      "outputs": []
    },
    {
      "cell_type": "code",
      "source": [
        "conf = make_conf()\n",
        "print(conf)"
      ],
      "metadata": {
        "colab": {
          "base_uri": "https://localhost:8080/"
        },
        "id": "UcAQxP7wgx7x",
        "outputId": "b4036d89-379d-4ddd-85a7-3012fdd97082"
      },
      "execution_count": 16,
      "outputs": [
        {
          "output_type": "stream",
          "name": "stdout",
          "text": [
            "ModuleList(\n",
            "  (0): Conv2d(512, 84, kernel_size=(3, 3), stride=(1, 1), padding=(1, 1))\n",
            "  (1): Conv2d(1024, 126, kernel_size=(3, 3), stride=(1, 1), padding=(1, 1))\n",
            "  (2): Conv2d(512, 126, kernel_size=(3, 3), stride=(1, 1), padding=(1, 1))\n",
            "  (3): Conv2d(256, 126, kernel_size=(3, 3), stride=(1, 1), padding=(1, 1))\n",
            "  (4): Conv2d(256, 84, kernel_size=(3, 3), stride=(1, 1), padding=(1, 1))\n",
            "  (5): Conv2d(256, 84, kernel_size=(3, 3), stride=(1, 1), padding=(1, 1))\n",
            ")\n"
          ]
        }
      ]
    },
    {
      "cell_type": "markdown",
      "source": [
        "### L2Norm層の実装"
      ],
      "metadata": {
        "id": "mzIADscvg0gm"
      }
    },
    {
      "cell_type": "code",
      "source": [
        "'''\n",
        "5. L2ノルムで正規化する層を生成するクラス\n",
        "'''\n",
        "import torch\n",
        "import torch.nn.init as init\n",
        "\n",
        "class L2Norm(nn.Module):\n",
        "    '''\n",
        "    vgg4の畳み込み層3の出力out1をL2ノルムで正規化する層\n",
        "\n",
        "    Attributes:\n",
        "        weight: L2Norm層のパラメーター（重み）\n",
        "        scale: 重みの初期値\n",
        "        eps: L2ノルムの値に加算する極小値\n",
        "    '''\n",
        "    def __init__(self, input_channels=512, scale=20):\n",
        "        '''\n",
        "        インスタンス変数の初期化を行う\n",
        "\n",
        "        Parameters:\n",
        "            input_channels(int):\n",
        "                入力データ（vgg4の出力）のチャネル数（デフォルト値512）\n",
        "            scale(int):\n",
        "                重みweightの初期値として設定する値（デフォルト値20）\n",
        "        '''\n",
        "        super(L2Norm, self).__init__()\n",
        "        # レイヤーの重みとして（512,）の1階テンソルを配置\n",
        "        self.weight = nn.Parameter(torch.Tensor(input_channels))\n",
        "        self.scale = scale\n",
        "        self.reset_parameters()\n",
        "        self.eps = 1e-10\n",
        "    \n",
        "    def reset_parameters(self):\n",
        "        '''\n",
        "        全ての重みをscaleの値で初期化する\n",
        "        '''\n",
        "        # torch.nn.init_constant_()で重みテンソルに初期値を設定\n",
        "        # weightの値を全てscale(=20)にする\n",
        "        init.constant_(self.weight, self.scale)\n",
        "    \n",
        "    def forward(self, x):\n",
        "        '''\n",
        "        L2Normにおける順伝播を行う\n",
        "\n",
        "        Parameters:\n",
        "            x(Tensor):\n",
        "                vgg4の畳み込み層3からの出力(バッチサイズ、512、38、38)\n",
        "        \n",
        "        Returns:\n",
        "            L2ノルムで正規化した後、scale(=20)の重みを適用した\n",
        "            (バッチサイズ、512、38、38)の4階テンソル\n",
        "        '''\n",
        "        # 各チャネルにおける38*38個の特徴量の個々のセルについて、\n",
        "        # チャネル方向の2乗和の平方根(L2ノルム)を求め、極小値epsを加算する\n",
        "        # normの形状は（バッチサイズ、1、38、38）\n",
        "        norm = x.pow(2).sum(dim=1, keepdim=True).sqrt() + self.eps\n",
        "        # 各チャネルにおける38*38個の特徴量の個々のセルの値を\n",
        "        # 同じセルのnormで割って正規化する\n",
        "        x = torch.div(x, norm)\n",
        "\n",
        "        # self.weightの1階テンソル（512、）を（バッチサイズ、512、38、38）の\n",
        "        # 4階テンソルに変形してxと同じ形状にする\n",
        "        weights = self.weight.unsqueeze(0).unsqueeze(3).expand_as(x)\n",
        "        # 変形後のxに重みを適用する\n",
        "        out = weights * x\n",
        "\n",
        "        return out"
      ],
      "metadata": {
        "id": "jJV9uWp0g6-A"
      },
      "execution_count": 17,
      "outputs": []
    },
    {
      "cell_type": "code",
      "source": [
        "import itertools\n",
        "import pprint\n",
        "\n",
        "l1 = ['a', 'b', 'c']\n",
        "l2 = ['1', '2', '3']\n",
        "p = itertools.product(l1, l2)\n",
        "for v in p:\n",
        "    print(v)"
      ],
      "metadata": {
        "colab": {
          "base_uri": "https://localhost:8080/"
        },
        "id": "S1ltXl5ej8cE",
        "outputId": "f9ab8200-090a-499e-807c-88aa3d6b022c"
      },
      "execution_count": 18,
      "outputs": [
        {
          "output_type": "stream",
          "name": "stdout",
          "text": [
            "('a', '1')\n",
            "('a', '2')\n",
            "('a', '3')\n",
            "('b', '1')\n",
            "('b', '2')\n",
            "('b', '3')\n",
            "('c', '1')\n",
            "('c', '2')\n",
            "('c', '3')\n"
          ]
        }
      ]
    },
    {
      "cell_type": "code",
      "source": [
        "'''\n",
        "6. デフォルトボックスを出力するクラス\n",
        "'''\n",
        "from itertools import product as product\n",
        "from math import sqrt as sqrt\n",
        "\n",
        "class DBox(object):\n",
        "    '''\n",
        "    8732個のDBoxの(x座標、y座標、幅、高さ)を生成する\n",
        "\n",
        "    Attributes:\n",
        "        image_size(int): イメージのサイズ\n",
        "        feature_maps(list): out1~out6における特徴量マップのサイズのリストを保持\n",
        "        num_priors(int): featire_mapsの要素数、out1~out6の個数6を保持\n",
        "        steps(list): DBoxのサイズのリストを保持\n",
        "        min_sizes(list): 小さい正方形のDBoxのサイズを保持\n",
        "        max_sizes(list): 大きい正方形のDBoxのサイズを保持\n",
        "        aspect_rations(list): 長方形のDBoxのアスペクト比を保持\n",
        "    '''\n",
        "    def __init__(self, cfg):\n",
        "        '''\n",
        "        インスタンス変数の初期化を行う\n",
        "        '''\n",
        "        super(DBox, self).__init__()\n",
        "\n",
        "        # 画像サイズ（300）を設定\n",
        "        self.image_size = cfg['input_size']\n",
        "        # out1~out6における特徴量マップのサイズ[38, 19,...]を設定\n",
        "        self.feature_maps = cfg['feature_maps']\n",
        "        # out1~out6の個数＝6を設定\n",
        "        self.num_priors = len(cfg['feature_maps'])\n",
        "        # DBoxのサイズ[8, 16, 32, ...]を設定\n",
        "        self.steps = cfg['steps']\n",
        "        # 小さい正方形のDBoxのサイズ[30, 60, 111, ...]を設定\n",
        "        self.min_sizes = cfg['min_sizes']\n",
        "        # 大きい正方形のDBoxのサイズ[60, 111, 162, ...]を設定\n",
        "        self.max_sizes = cfg['max_sizes']\n",
        "        # 長方形のDBoxのアスペクト比[[2], [2, 3], [2, 3], ...]を設定\n",
        "        self.aspect_rations = cfg['aspect_rations']\n",
        "    \n",
        "    def make_dbox_list(self):\n",
        "        '''\n",
        "        DBoxを作成する\n",
        "\n",
        "        Returns:\n",
        "            (Tensor)DBoxの[cx, cy, width, weight]を格納した(8732, 4)の形状のテンソル\n",
        "        '''\n",
        "        mean = []\n",
        "        # out1~out6における特徴量マップの数（6）だけ繰り返す\n",
        "        # 特徴量マップのサイズのリストからインデックスをk, サイズをfに取り出す\n",
        "        # feature_maps: [38, 19, 10, 5, 3, 1]\n",
        "        # k: 0, 1,2, 3, 4, 5\n",
        "        # f: 38, 19, 10, 5, 3, 1\n",
        "        for k, f in enumerate(self.feature_maps):\n",
        "            # fまでの数をrepeat=3を指定して2つのリストにして組み合わせ（直積）を作る\n",
        "            # f=38の場合\n",
        "            # i: 0, 0, 0, 0,... の38個の0に対して\n",
        "            # j: 0, 1, 2, 3,... の37を組み合わせる\n",
        "            # (i, j)は(0, 0)(0, 1)...(0, 37)~(37, 0)...(37, 37)\n",
        "            for i, j in product(range(f), repeat=2):\n",
        "                # 特徴量の画像サイズをDBoxのサイズsteps[k]でわる\n",
        "                # 300 / steps: [8, 16, 32, 64, 100, 300]\n",
        "                f_k = self.image_size / self.steps[k]\n",
        "\n",
        "                # 特徴量ごとのDBoxの中心のx座標、y座標を求める\n",
        "                # (0~1の範囲に規格化)\n",
        "                cx = (j + 0.5) / f_k\n",
        "                cy = (i + 0.5) / f_k\n",
        "\n",
        "                # 小さい正方形のDBoxのサイズmin_sizes[k]を\n",
        "                # 画像のサイズでわる\n",
        "                # min_sizes: [30, 50, 111, 162, 213, 264] / 300\n",
        "                s_k = self.min_sizes[k] / self.image_size\n",
        "                # 小さい正方形のDBoxの[cx, cy, width, height]をリストに追加\n",
        "                mean += [cx, cy, s_k, s_k]                \n",
        "\n",
        "                # 大きい正方形のDBoxのサイズmax_sizes[k]を\n",
        "                # 画像のサイズでわる\n",
        "                # max_sizes: [45, 99, 153, 207, 261, 315] / 300\n",
        "                # さらにs_kをかけて平方根を求める\n",
        "                s_k_prime = sqrt(s_k * (self.max_sizes[k] / self.image_size))\n",
        "                # 大きい正方形のDBoxの[cx, cy, width, height]をリストに追加\n",
        "                mean += [cx, cy, s_k_prime, s_k_prime]\n",
        "                \n",
        "                # 長方形のDBoxの[cx, cy, width, height]をリストに追加\n",
        "                for ar in self.aspect_rations[k]:\n",
        "                    # widthはs_kにアスペクト比の平方根をかけたもの\n",
        "                    # heightはs_kにアスペクト比の平方根を割ったもの\n",
        "                    mean += [cx, cy, s_k * sqrt(ar), s_k / sqrt(ar)]\n",
        "                    # widthはs_kにアスペクト比と平方根で割ったもの\n",
        "                    # heightはs_kにアスペクト比と平方根をかけたもの\n",
        "                    mean += [cx, cy, s_k / sqrt(ar), s_k * sqrt(ar)]\n",
        "        \n",
        "        # DBoxの[cx, cy, width, height]のリストを(8732, 4)の2階テンソルに変換\n",
        "        output = torch.Tensor(mean).view(-1, 4)\n",
        "        # DBoxの大きさが1を超えている場合は1にする\n",
        "        output.clamp_(max=1, min=0)\n",
        "\n",
        "        # DBoxの[cx, cy, width, height]を格納した2階テンソルを返す\n",
        "        return output"
      ],
      "metadata": {
        "id": "tQHyinz0kjhS"
      },
      "execution_count": 19,
      "outputs": []
    },
    {
      "cell_type": "code",
      "source": [
        "# DBoxクラスの動作確認\n",
        "import pandas as pd\n",
        "\n",
        "# デフォルトボックスの生成に必要なパラメーター\n",
        "dbox_cfg = {\n",
        "    # 画像の入力サイズ\n",
        "    'input_size': 300,\n",
        "    # out1~out6における特徴量マップのサイズ\n",
        "    'feature_maps': [38, 19, 10, 5, 3, 1],\n",
        "    # DBoxのサイズ\n",
        "    'steps': [8, 16, 32, 64, 100, 300],\n",
        "    # 小さい正方形のDBoxのサイズ\n",
        "    'min_sizes': [30, 60, 111, 162, 213, 264],\n",
        "    # 大きい正方形のDBoxのサイズ\n",
        "    'max_sizes': [60, 111, 162, 213, 264, 315],\n",
        "    # 長方形のDBoxのアスペクトひ\n",
        "    'aspect_rations': [[2], [2, 3], [2, 3], [2, 3], [2], [2]]\n",
        "}\n",
        "\n",
        "# DBoxオブジェクトを生成\n",
        "dbox = DBox(dbox_cfg)\n",
        "# DBoxのリストを取得\n",
        "dbox_list = dbox.make_dbox_list()\n",
        "\n",
        "# 出力\n",
        "print(dbox_list)"
      ],
      "metadata": {
        "colab": {
          "base_uri": "https://localhost:8080/"
        },
        "id": "vWYD1PyHqUxv",
        "outputId": "5ef0909b-b030-4717-fa34-b028d0182503"
      },
      "execution_count": 20,
      "outputs": [
        {
          "output_type": "stream",
          "name": "stdout",
          "text": [
            "tensor([[0.0133, 0.0133, 0.1000, 0.1000],\n",
            "        [0.0133, 0.0133, 0.1414, 0.1414],\n",
            "        [0.0133, 0.0133, 0.1414, 0.0707],\n",
            "        ...,\n",
            "        [0.5000, 0.5000, 0.9612, 0.9612],\n",
            "        [0.5000, 0.5000, 1.0000, 0.6223],\n",
            "        [0.5000, 0.5000, 0.6223, 1.0000]])\n"
          ]
        }
      ]
    },
    {
      "cell_type": "code",
      "source": [
        ""
      ],
      "metadata": {
        "id": "ZGMYAT_hrZ92"
      },
      "execution_count": null,
      "outputs": []
    }
  ]
}